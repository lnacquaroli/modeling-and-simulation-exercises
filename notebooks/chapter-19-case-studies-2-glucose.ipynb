{
 "cells": [
  {
   "cell_type": "markdown",
   "metadata": {},
   "source": [
    "# The Glucose Minimal Model"
   ]
  },
  {
   "cell_type": "markdown",
   "metadata": {},
   "source": [
    "*Modeling and Simulation in Python*\n",
    "\n",
    "Copyright 2021 Allen Downey\n",
    "\n",
    "License: [Creative Commons Attribution-NonCommercial-ShareAlike 4.0 International](https://creativecommons.org/licenses/by-nc-sa/4.0/)"
   ]
  },
  {
   "cell_type": "code",
   "execution_count": 1,
   "metadata": {
    "tags": []
   },
   "outputs": [],
   "source": [
    "# install Pint if necessary\n",
    "\n",
    "\"\"\" try:\n",
    "    import pint\n",
    "except ImportError:\n",
    "    !pip install pint \"\"\""
   ]
  },
  {
   "cell_type": "code",
   "execution_count": 2,
   "metadata": {
    "tags": []
   },
   "outputs": [],
   "source": [
    "# download modsim.py if necessary\n",
    "\n",
    "from os.path import basename, exists\n",
    "\n",
    "def download(url):\n",
    "    filename = basename(url)\n",
    "    if not exists(filename):\n",
    "        from urllib.request import urlretrieve\n",
    "        local, _ = urlretrieve(url, filename)\n",
    "        print('Downloaded ' + local)\n",
    "    \n",
    "download('https://raw.githubusercontent.com/AllenDowney/' +\n",
    "         'ModSim/main/modsim.py')"
   ]
  },
  {
   "cell_type": "code",
   "execution_count": 1,
   "metadata": {
    "tags": []
   },
   "outputs": [],
   "source": [
    "import numpy\n",
    "import pandas\n",
    "from matplotlib import pyplot\n",
    "%matplotlib inline\n",
    "%config InlineBackend.figure_format = \"retina\"\n",
    "\n",
    "import modsim"
   ]
  },
  {
   "cell_type": "markdown",
   "metadata": {},
   "source": [
    "In the previous chapter we implemented the glucose minimal model using given parameters, but I didn't say where those parameters came from.\n",
    "This notebook solves the mystery.\n",
    "\n",
    "We'll use a SciPy function called `leastsq`, which stands for \"least squares\"; that is, it finds the parameters that minimize the sum of squared differences between the results of the model and the data.\n",
    "\n",
    "You can think of `leastsq` as optional material.  We won't use it in the book itself, but it appears in a few of the case studies.\n",
    "\n",
    "You can read more about `leastsq` in [the SciPy documentation](https://docs.scipy.org/doc/scipy/reference/generated/scipy.optimize.leastsq.html).  It uses the Levenberg-Marquart algorithm, which you can read about [on Wikipedia](https://en.wikipedia.org/wiki/Levenberg%E2%80%93Marquardt_algorithm)."
   ]
  },
  {
   "cell_type": "markdown",
   "metadata": {},
   "source": [
    "The following cells download and read the data."
   ]
  },
  {
   "cell_type": "code",
   "execution_count": 4,
   "metadata": {},
   "outputs": [],
   "source": [
    "download('https://raw.githubusercontent.com/AllenDowney/' +\n",
    "         'ModSim/main/data/glucose_insulin.csv')"
   ]
  },
  {
   "cell_type": "code",
   "execution_count": 2,
   "metadata": {},
   "outputs": [],
   "source": [
    "data = pandas.read_csv('glucose_insulin.csv', index_col='time');"
   ]
  },
  {
   "cell_type": "markdown",
   "metadata": {},
   "source": [
    "We'll use `make_system` and `slope_func` as defined in Chapter 18."
   ]
  },
  {
   "cell_type": "code",
   "execution_count": 3,
   "metadata": {},
   "outputs": [],
   "source": [
    "def make_system(params, data):\n",
    "    G0, k1, k2, k3 = params\n",
    "    \n",
    "    t_0 = data.index[0]\n",
    "    t_end = data.index[-1]\n",
    "    \n",
    "    Gb = data.glucose[t_0]\n",
    "    Ib = data.insulin[t_0]\n",
    "    I = modsim.interpolate(data.insulin)\n",
    "    \n",
    "    init = modsim.State(G=G0, X=0) # only those that changes in time\n",
    "    \n",
    "    return modsim.System(\n",
    "        init=init, params=params,\n",
    "        Gb=Gb, Ib=Ib, I=I,\n",
    "        t_0=t_0, t_end=t_end, dt=2,\n",
    ")\n",
    "\n",
    "def slope_func(t, state, system):\n",
    "    G, X = state\n",
    "    G0, k1, k2, k3 = system.params \n",
    "    I, Ib, Gb = system.I, system.Ib, system.Gb\n",
    "        \n",
    "    dGdt = -k1 * (G - Gb) - X*G\n",
    "    dXdt = k3 * (I(t) - Ib) - k2 * X\n",
    "    \n",
    "    return dGdt, dXdt"
   ]
  },
  {
   "cell_type": "markdown",
   "metadata": {},
   "source": [
    "## Computing errors\n",
    "\n",
    "In this context, the \"errors\" are the differences between the results from the model and the data.\n",
    "\n",
    "To compute the errors, I'll start again with the parameters we used in Chapter 18."
   ]
  },
  {
   "cell_type": "code",
   "execution_count": 4,
   "metadata": {},
   "outputs": [],
   "source": [
    "G0 = 270\n",
    "k1 = 0.02\n",
    "k2 = 0.02\n",
    "k3 = 1.5e-05"
   ]
  },
  {
   "cell_type": "code",
   "execution_count": 5,
   "metadata": {},
   "outputs": [],
   "source": [
    "params = G0, k1, k2, k3"
   ]
  },
  {
   "cell_type": "markdown",
   "metadata": {},
   "source": [
    "`make_system` takes the parameters and actual data and returns a `System` object."
   ]
  },
  {
   "cell_type": "code",
   "execution_count": 6,
   "metadata": {},
   "outputs": [],
   "source": [
    "system = make_system(params, data)"
   ]
  },
  {
   "cell_type": "markdown",
   "metadata": {},
   "source": [
    "Here's how we run the ODE solver."
   ]
  },
  {
   "cell_type": "code",
   "execution_count": 7,
   "metadata": {},
   "outputs": [
    {
     "data": {
      "text/plain": [
       "'The solver successfully reached the end of the integration interval.'"
      ]
     },
     "execution_count": 7,
     "metadata": {},
     "output_type": "execute_result"
    }
   ],
   "source": [
    "results, details = modsim.run_solve_ivp(system, slope_func, t_eval=data.index)\n",
    "details.message"
   ]
  },
  {
   "cell_type": "markdown",
   "metadata": {},
   "source": [
    "Because we specify `t_eval=data.index`, the results are evaluated at the some time stamps as the data."
   ]
  },
  {
   "cell_type": "code",
   "execution_count": 8,
   "metadata": {},
   "outputs": [
    {
     "data": {
      "text/html": [
       "<div>\n",
       "<style scoped>\n",
       "    .dataframe tbody tr th:only-of-type {\n",
       "        vertical-align: middle;\n",
       "    }\n",
       "\n",
       "    .dataframe tbody tr th {\n",
       "        vertical-align: top;\n",
       "    }\n",
       "\n",
       "    .dataframe thead th {\n",
       "        text-align: right;\n",
       "    }\n",
       "</style>\n",
       "<table border=\"1\" class=\"dataframe\">\n",
       "  <thead>\n",
       "    <tr style=\"text-align: right;\">\n",
       "      <th></th>\n",
       "      <th>G</th>\n",
       "      <th>X</th>\n",
       "    </tr>\n",
       "  </thead>\n",
       "  <tbody>\n",
       "    <tr>\n",
       "      <th>102</th>\n",
       "      <td>80.894528</td>\n",
       "      <td>0.003535</td>\n",
       "    </tr>\n",
       "    <tr>\n",
       "      <th>122</th>\n",
       "      <td>80.997119</td>\n",
       "      <td>0.001861</td>\n",
       "    </tr>\n",
       "    <tr>\n",
       "      <th>142</th>\n",
       "      <td>83.257581</td>\n",
       "      <td>0.000384</td>\n",
       "    </tr>\n",
       "    <tr>\n",
       "      <th>162</th>\n",
       "      <td>86.293945</td>\n",
       "      <td>-0.000459</td>\n",
       "    </tr>\n",
       "    <tr>\n",
       "      <th>182</th>\n",
       "      <td>89.405110</td>\n",
       "      <td>-0.001178</td>\n",
       "    </tr>\n",
       "  </tbody>\n",
       "</table>\n",
       "</div>"
      ],
      "text/plain": [
       "             G         X\n",
       "102  80.894528  0.003535\n",
       "122  80.997119  0.001861\n",
       "142  83.257581  0.000384\n",
       "162  86.293945 -0.000459\n",
       "182  89.405110 -0.001178"
      ]
     },
     "execution_count": 8,
     "metadata": {},
     "output_type": "execute_result"
    }
   ],
   "source": [
    "results.tail()"
   ]
  },
  {
   "cell_type": "markdown",
   "metadata": {},
   "source": [
    "We can plot the results like this."
   ]
  },
  {
   "cell_type": "code",
   "execution_count": 9,
   "metadata": {},
   "outputs": [
    {
     "data": {
      "image/png": "[encoded data removed]",
      "text/plain": [
       "<Figure size 432x288 with 1 Axes>"
      ]
     },
     "metadata": {
      "image/png": {
       "height": 279,
       "width": 424
      },
      "needs_background": "light"
     },
     "output_type": "display_data"
    }
   ],
   "source": [
    "data.glucose.plot(style='o', alpha=0.5, label='data')\n",
    "results.G.plot(style='-', color='C0', label='model')\n",
    "\n",
    "modsim.decorate(xlabel='Time (min)',\n",
    "         ylabel='Concentration (mg/dL)')"
   ]
  },
  {
   "cell_type": "markdown",
   "metadata": {},
   "source": [
    "During the first three time steps, the model does not fit the data. That's because it takes some time for the injected glucose to disperse.\n",
    "\n",
    "We can compute the errors like this."
   ]
  },
  {
   "cell_type": "code",
   "execution_count": 10,
   "metadata": {},
   "outputs": [
    {
     "data": {
      "text/plain": [
       "0    178.000000\n",
       "2    -87.019058\n",
       "4    -31.316545\n",
       "6     -3.684558\n",
       "8     -1.728149\n",
       "dtype: float64"
      ]
     },
     "execution_count": 10,
     "metadata": {},
     "output_type": "execute_result"
    }
   ],
   "source": [
    "errors = results.G - data.glucose\n",
    "errors.head()"
   ]
  },
  {
   "cell_type": "markdown",
   "metadata": {},
   "source": [
    "The first few errors are substantially larger than the rest.\n",
    "\n",
    "In the next section, we'll use `leastsq` to search for the parameters that minimize the sum of the squared errors."
   ]
  },
  {
   "cell_type": "markdown",
   "metadata": {},
   "source": [
    "## Optimization\n",
    "\n",
    "To use `leastsq`, we need an \"error function\" that takes a sequence of parameters and returns an array of errors.\n",
    "\n",
    "Here's a function that does what we need."
   ]
  },
  {
   "cell_type": "code",
   "execution_count": 30,
   "metadata": {},
   "outputs": [],
   "source": [
    "def error_func(params, data):\n",
    "    \"\"\"Computes an array of errors to be minimized.\n",
    "    \n",
    "    params: sequence of parameters\n",
    "    data: DataFrame of values to be matched\n",
    "    \n",
    "    returns: array of errors\n",
    "    \"\"\"\n",
    "    #print(params)\n",
    "    \n",
    "    # make a System with the given parameters\n",
    "    system = make_system(params, data)\n",
    "    \n",
    "    # solve the ODE\n",
    "    results, details = modsim.run_solve_ivp(system, slope_func, t_eval=data.index)\n",
    "    \n",
    "    # compute the difference between the model\n",
    "    # results and actual data\n",
    "    errors = results.G - data.glucose\n",
    "    return errors.iloc[3:]"
   ]
  },
  {
   "cell_type": "markdown",
   "metadata": {},
   "source": [
    "`error_func` uses the given parameters to make a `System` object, runs the simulation, and returns the errors.\n",
    "\n",
    "But notice that it does not return all of the errors; rather, it uses `iloc` to select only the elements with index 3 or more.\n",
    "In other words, it omits the elements with index 0, 1, and 2.\n",
    "Note: You can read more about this use of `iloc` [in the Pandas documentation](https://pandas.pydata.org/pandas-docs/stable/indexing.html#indexing-integer).\n",
    "\n",
    "Since we don't expect the model to fit the data in this regime, we'll leave it out.\n",
    "\n",
    "We can call `error_func` like this:"
   ]
  },
  {
   "cell_type": "code",
   "execution_count": 12,
   "metadata": {},
   "outputs": [
    {
     "name": "stdout",
     "output_type": "stream",
     "text": [
      "(270, 0.02, 0.02, 1.5e-05)\n"
     ]
    },
    {
     "data": {
      "text/plain": [
       "6      -3.684558\n",
       "8      -1.728149\n",
       "10     13.294083\n",
       "12      9.425807\n",
       "14      6.752546\n",
       "16      7.353682\n",
       "19     -0.610979\n",
       "22      8.260041\n",
       "27      0.569221\n",
       "32      6.984791\n",
       "42      1.228652\n",
       "52      3.302437\n",
       "62      4.855592\n",
       "72      5.283959\n",
       "82      7.627294\n",
       "92      0.046105\n",
       "102    -0.105472\n",
       "122    -1.002881\n",
       "142     1.257581\n",
       "162     1.293945\n",
       "182    -0.594890\n",
       "dtype: float64"
      ]
     },
     "execution_count": 12,
     "metadata": {},
     "output_type": "execute_result"
    }
   ],
   "source": [
    "error_func(params, data)"
   ]
  },
  {
   "cell_type": "markdown",
   "metadata": {},
   "source": [
    "Now we're ready to call `leastsq`.  As arguments, we pass `error_func`, the parameters where we want to start the search, and the data, which will be passed as an argument to `error_func`."
   ]
  },
  {
   "cell_type": "code",
   "execution_count": 13,
   "metadata": {},
   "outputs": [
    {
     "name": "stdout",
     "output_type": "stream",
     "text": [
      "[2.7e+02 2.0e-02 2.0e-02 1.5e-05]\n",
      "[2.7e+02 2.0e-02 2.0e-02 1.5e-05]\n",
      "[2.7e+02 2.0e-02 2.0e-02 1.5e-05]\n",
      "[2.70000004e+02 2.00000000e-02 2.00000000e-02 1.50000000e-05]\n",
      "[2.70000000e+02 2.00000003e-02 2.00000000e-02 1.50000000e-05]\n",
      "[2.70000000e+02 2.00000000e-02 2.00000003e-02 1.50000000e-05]\n",
      "[2.70000000e+02 2.00000000e-02 2.00000000e-02 1.50000002e-05]\n",
      "[2.71539221e+02 2.40776775e-02 1.85336394e-02 1.31312431e-05]\n",
      "[2.71539225e+02 2.40776775e-02 1.85336394e-02 1.31312431e-05]\n",
      "[2.71539221e+02 2.40776779e-02 1.85336394e-02 1.31312431e-05]\n",
      "[2.71539221e+02 2.40776775e-02 1.85336397e-02 1.31312431e-05]\n",
      "[2.71539221e+02 2.40776775e-02 1.85336394e-02 1.31312433e-05]\n",
      "[2.70733810e+02 2.35942081e-02 1.56222882e-02 1.29655053e-05]\n",
      "[2.70733814e+02 2.35942081e-02 1.56222882e-02 1.29655053e-05]\n",
      "[2.70733810e+02 2.35942084e-02 1.56222882e-02 1.29655053e-05]\n",
      "[2.70733810e+02 2.35942081e-02 1.56222884e-02 1.29655053e-05]\n",
      "[2.70733810e+02 2.35942081e-02 1.56222882e-02 1.29655055e-05]\n",
      "[2.73719066e+02 2.53506604e-02 1.83172795e-02 1.23473463e-05]\n",
      "[2.71304279e+02 2.40607314e-02 1.67166961e-02 1.27744138e-05]\n",
      "[2.71304283e+02 2.40607314e-02 1.67166961e-02 1.27744138e-05]\n",
      "[2.71304279e+02 2.40607318e-02 1.67166961e-02 1.27744138e-05]\n",
      "[2.71304279e+02 2.40607314e-02 1.67166964e-02 1.27744138e-05]\n",
      "[2.71304279e+02 2.40607314e-02 1.67166961e-02 1.27744140e-05]\n",
      "[2.71413326e+02 2.39638800e-02 1.59163768e-02 1.27985180e-05]\n",
      "[2.71413330e+02 2.39638800e-02 1.59163768e-02 1.27985180e-05]\n",
      "[2.71413326e+02 2.39638804e-02 1.59163768e-02 1.27985180e-05]\n",
      "[2.71413326e+02 2.39638800e-02 1.59163771e-02 1.27985180e-05]\n",
      "[2.71413326e+02 2.39638800e-02 1.59163768e-02 1.27985182e-05]\n",
      "[2.71651048e+02 2.40831241e-02 1.62637945e-02 1.28056728e-05]\n",
      "[2.71651052e+02 2.40831241e-02 1.62637945e-02 1.28056728e-05]\n",
      "[2.71651048e+02 2.40831244e-02 1.62637945e-02 1.28056728e-05]\n",
      "[2.71651048e+02 2.40831241e-02 1.62637947e-02 1.28056728e-05]\n",
      "[2.71651048e+02 2.40831241e-02 1.62637945e-02 1.28056730e-05]\n",
      "[2.71871514e+02 2.42051891e-02 1.69092054e-02 1.28210484e-05]\n",
      "[2.71711860e+02 2.41158441e-02 1.64273535e-02 1.28095430e-05]\n",
      "[2.71711864e+02 2.41158441e-02 1.64273535e-02 1.28095430e-05]\n",
      "[2.71711860e+02 2.41158445e-02 1.64273535e-02 1.28095430e-05]\n",
      "[2.71711860e+02 2.41158441e-02 1.64273538e-02 1.28095430e-05]\n",
      "[2.71711860e+02 2.41158441e-02 1.64273535e-02 1.28095432e-05]\n",
      "[2.71603574e+02 2.40743960e-02 1.67335297e-02 1.28177886e-05]\n",
      "[2.71620277e+02 2.40732072e-02 1.65253624e-02 1.28126477e-05]\n",
      "[2.71640974e+02 2.40789660e-02 1.64656218e-02 1.28111983e-05]\n",
      "[2.71673008e+02 2.40905682e-02 1.64295811e-02 1.28102900e-05]\n",
      "[2.71673013e+02 2.40905682e-02 1.64295811e-02 1.28102900e-05]\n",
      "[2.71673008e+02 2.40905686e-02 1.64295811e-02 1.28102900e-05]\n",
      "[2.71673008e+02 2.40905682e-02 1.64295813e-02 1.28102900e-05]\n",
      "[2.71673008e+02 2.40905682e-02 1.64295811e-02 1.28102902e-05]\n",
      "[2.71683661e+02 2.41040652e-02 1.64408052e-02 1.28100172e-05]\n",
      "[2.71683665e+02 2.41040652e-02 1.64408052e-02 1.28100172e-05]\n",
      "[2.71683661e+02 2.41040656e-02 1.64408052e-02 1.28100172e-05]\n",
      "[2.71683661e+02 2.41040652e-02 1.64408055e-02 1.28100172e-05]\n",
      "[2.71683661e+02 2.41040652e-02 1.64408052e-02 1.28100174e-05]\n",
      "[2.71672504e+02 2.40903210e-02 1.64323196e-02 1.28103260e-05]\n",
      "[2.71680448e+02 2.40990758e-02 1.64374663e-02 1.28101268e-05]\n",
      "[2.71682180e+02 2.41015698e-02 1.64391070e-02 1.28100716e-05]\n",
      "[2.71682184e+02 2.41015698e-02 1.64391070e-02 1.28100716e-05]\n",
      "[2.71682180e+02 2.41015702e-02 1.64391070e-02 1.28100716e-05]\n",
      "[2.71682180e+02 2.41015698e-02 1.64391073e-02 1.28100716e-05]\n",
      "[2.71682180e+02 2.41015698e-02 1.64391070e-02 1.28100718e-05]\n",
      "[2.71683877e+02 2.41038466e-02 1.64409777e-02 1.28100259e-05]\n",
      "[2.71682608e+02 2.41022487e-02 1.64396501e-02 1.28100584e-05]\n",
      "[2.71682612e+02 2.41022487e-02 1.64396501e-02 1.28100584e-05]\n",
      "[2.71682608e+02 2.41022490e-02 1.64396501e-02 1.28100584e-05]\n",
      "[2.71682608e+02 2.41022487e-02 1.64396504e-02 1.28100584e-05]\n",
      "[2.71682608e+02 2.41022487e-02 1.64396501e-02 1.28100586e-05]\n",
      "[2.71683557e+02 2.41035524e-02 1.64407171e-02 1.28100324e-05]\n",
      "[2.71682792e+02 2.41025309e-02 1.64398770e-02 1.28100529e-05]\n",
      "[2.71682796e+02 2.41025309e-02 1.64398770e-02 1.28100529e-05]\n",
      "[2.71682792e+02 2.41025312e-02 1.64398770e-02 1.28100529e-05]\n",
      "[2.71682792e+02 2.41025309e-02 1.64398773e-02 1.28100529e-05]\n",
      "[2.71682792e+02 2.41025309e-02 1.64398770e-02 1.28100531e-05]\n",
      "[2.71682461e+02 2.41019674e-02 1.64394901e-02 1.28100651e-05]\n",
      "[2.71682680e+02 2.41023372e-02 1.64397438e-02 1.28100571e-05]\n",
      "[2.71682753e+02 2.41024627e-02 1.64398301e-02 1.28100544e-05]\n",
      "[2.71682777e+02 2.41025050e-02 1.64398592e-02 1.28100535e-05]\n",
      "[2.71682785e+02 2.41025185e-02 1.64398685e-02 1.28100532e-05]\n",
      "[2.71682789e+02 2.41025185e-02 1.64398685e-02 1.28100532e-05]\n",
      "[2.71682785e+02 2.41025189e-02 1.64398685e-02 1.28100532e-05]\n",
      "[2.71682785e+02 2.41025185e-02 1.64398688e-02 1.28100532e-05]\n",
      "[2.71682785e+02 2.41025185e-02 1.64398685e-02 1.28100534e-05]\n",
      "[2.71682793e+02 2.41025308e-02 1.64398784e-02 1.28100529e-05]\n"
     ]
    }
   ],
   "source": [
    "best_params, fit_details = modsim.leastsq(error_func, params, data)"
   ]
  },
  {
   "cell_type": "markdown",
   "metadata": {},
   "source": [
    "Each time `error_func` is called, it prints the parameters, so we can get a sense of how `leastsq` works.\n",
    "\n",
    "`leastsq` has two return values.\n",
    "The is an array with the best parameters:"
   ]
  },
  {
   "cell_type": "code",
   "execution_count": 14,
   "metadata": {},
   "outputs": [
    {
     "data": {
      "text/plain": [
       "array([2.71682785e+02, 2.41025185e-02, 1.64398685e-02, 1.28100532e-05])"
      ]
     },
     "execution_count": 14,
     "metadata": {},
     "output_type": "execute_result"
    }
   ],
   "source": [
    "best_params"
   ]
  },
  {
   "cell_type": "markdown",
   "metadata": {},
   "source": [
    "The second is an object with information about the results, including a success flag and a message."
   ]
  },
  {
   "cell_type": "code",
   "execution_count": 15,
   "metadata": {},
   "outputs": [
    {
     "data": {
      "text/plain": [
       "True"
      ]
     },
     "execution_count": 15,
     "metadata": {},
     "output_type": "execute_result"
    }
   ],
   "source": [
    "fit_details.success"
   ]
  },
  {
   "cell_type": "code",
   "execution_count": 16,
   "metadata": {},
   "outputs": [
    {
     "data": {
      "text/plain": [
       "'The relative error between two consecutive iterates is at most 0.000000'"
      ]
     },
     "execution_count": 16,
     "metadata": {},
     "output_type": "execute_result"
    }
   ],
   "source": [
    "fit_details.mesg"
   ]
  },
  {
   "cell_type": "markdown",
   "metadata": {},
   "source": [
    "Now that we have `best_params`, we can use it to make a `System` object and run it."
   ]
  },
  {
   "cell_type": "code",
   "execution_count": 17,
   "metadata": {},
   "outputs": [
    {
     "data": {
      "text/plain": [
       "'The solver successfully reached the end of the integration interval.'"
      ]
     },
     "execution_count": 17,
     "metadata": {},
     "output_type": "execute_result"
    }
   ],
   "source": [
    "system2 = make_system(best_params, data)\n",
    "results2, details = modsim.run_solve_ivp(system2, slope_func, t_eval=data.index)\n",
    "details.message"
   ]
  },
  {
   "cell_type": "markdown",
   "metadata": {},
   "source": [
    "Here are the results, along with the data."
   ]
  },
  {
   "cell_type": "code",
   "execution_count": 19,
   "metadata": {},
   "outputs": [
    {
     "data": {
      "image/png": "[encoded data removed]",
      "text/plain": [
       "<Figure size 432x288 with 1 Axes>"
      ]
     },
     "metadata": {
      "image/png": {
       "height": 279,
       "width": 424
      },
      "needs_background": "light"
     },
     "output_type": "display_data"
    }
   ],
   "source": [
    "data.glucose.plot(style='o', alpha=0.5, label='data')\n",
    "results2.G.plot(style='-', color='C0', label='model')\n",
    "\n",
    "modsim.decorate(xlabel='Time (min)',\n",
    "         ylabel='Concentration (mg/dL)')"
   ]
  },
  {
   "cell_type": "markdown",
   "metadata": {},
   "source": [
    "We can compute the errors like this."
   ]
  },
  {
   "cell_type": "code",
   "execution_count": 20,
   "metadata": {},
   "outputs": [
    {
     "data": {
      "text/plain": [
       "0    179.682785\n",
       "2    -86.807035\n",
       "4    -32.388291\n",
       "6     -5.800256\n",
       "8     -4.823015\n",
       "dtype: float64"
      ]
     },
     "execution_count": 20,
     "metadata": {},
     "output_type": "execute_result"
    }
   ],
   "source": [
    "errors2 = results2.G - data.glucose\n",
    "errors2.head()"
   ]
  },
  {
   "cell_type": "markdown",
   "metadata": {},
   "source": [
    "And the sum of the squared errors like this:"
   ]
  },
  {
   "cell_type": "code",
   "execution_count": 21,
   "metadata": {},
   "outputs": [
    {
     "data": {
      "text/plain": [
       "320.44265837559675"
      ]
     },
     "execution_count": 21,
     "metadata": {},
     "output_type": "execute_result"
    }
   ],
   "source": [
    "numpy.sum(errors2.iloc[3:]**2)"
   ]
  },
  {
   "cell_type": "markdown",
   "metadata": {},
   "source": [
    "If things have gone according to plan, the sum of squared errors should be smaller now, compared to the parameters we started with."
   ]
  },
  {
   "cell_type": "code",
   "execution_count": 22,
   "metadata": {},
   "outputs": [
    {
     "data": {
      "text/plain": [
       "626.2443450141394"
      ]
     },
     "execution_count": 22,
     "metadata": {},
     "output_type": "execute_result"
    }
   ],
   "source": [
    "numpy.sum(errors.iloc[3:]**2)"
   ]
  },
  {
   "cell_type": "markdown",
   "metadata": {},
   "source": [
    "## Interpreting parameters\n",
    "\n",
    "So we found the parameters that best match the data.  You might wonder why this is useful.\n",
    "\n",
    "The parameters themselves don't mean very much, but we can use them to compute two quantities we care about:\n",
    "\n",
    "-   \"Glucose effectiveness\", $E$, which is the tendency of elevated\n",
    "    glucose to cause depletion of glucose.\n",
    "\n",
    "-   \"Insulin sensitivity\", $S$, which is the ability of elevated blood\n",
    "    insulin to enhance glucose effectiveness.\n",
    "\n",
    "Glucose effectiveness is defined as the change in $dG/dt$ as we vary\n",
    "$G$: \n",
    "\n",
    "$$E \\equiv - \\frac{\\delta \\dot{G}}{\\delta G}$$ \n",
    "\n",
    "where $\\dot{G}$ is shorthand for $dG/dt$. Taking the derivative of $dG/dt$ with respect to $G$, we get \n",
    "\n",
    "$$E = k_1 + X$$ \n",
    "\n",
    "The **glucose effectiveness index**, $S_G$, is the value of $E$ when blood insulin is near its basal level, $I_b$.\n",
    "In that case, $X$ approaches 0 and $E$ approaches $k_1$. So we can use\n",
    "the best-fit value of $k_1$ as an estimate of $S_G$."
   ]
  },
  {
   "cell_type": "markdown",
   "metadata": {},
   "source": [
    "Insulin sensitivity is defined as the change in $E$ as we vary $I$:\n",
    "\n",
    "$$S \\equiv - \\frac{\\delta E}{\\delta I}$$ \n",
    "\n",
    "The **insulin sensitivity index**, $S_I$, is the value of $S$ when $E$ and $I$ are at steady state: \n",
    "\n",
    "$$S_I \\equiv \\frac{\\delta E_{SS}}{\\delta I_{SS}}$$ \n",
    "\n",
    "$E$ and $I$ are at steady state when $dG/dt$ and $dX/dt$ are 0, but we don't actually have to solve those equations to find $S_I$. \n",
    "\n",
    "If we set $dX/dt = 0$ and solve for $X$, we find the relation:\n",
    "\n",
    "$$X_{SS} = \\frac{k_3}{k_2} I_{SS}$$ \n",
    "\n",
    "And since $E = k_1 + X$, we have:\n",
    "\n",
    "$$S_I = \\frac{\\delta E_{SS}}{\\delta I_{SS}} = \\frac{\\delta X_{SS}}{\\delta I_{SS}}$$\n",
    "\n",
    "Taking the derivative of $X_{SS}$ with respect to $I_{SS}$, we have:\n",
    "\n",
    "$$S_I = k_3 / k_2$$ \n",
    "\n",
    "So if we find parameters that make the model fit the data, we can use $k_3 / k_2$ as an estimate of $S_I$."
   ]
  },
  {
   "cell_type": "markdown",
   "metadata": {},
   "source": [
    "For the parameters we found, here are the estimated values of $S_G$ and $S_I$:"
   ]
  },
  {
   "cell_type": "code",
   "execution_count": 23,
   "metadata": {},
   "outputs": [
    {
     "data": {
      "text/html": [
       "<div>\n",
       "<style scoped>\n",
       "    .dataframe tbody tr th:only-of-type {\n",
       "        vertical-align: middle;\n",
       "    }\n",
       "\n",
       "    .dataframe tbody tr th {\n",
       "        vertical-align: top;\n",
       "    }\n",
       "\n",
       "    .dataframe thead th {\n",
       "        text-align: right;\n",
       "    }\n",
       "</style>\n",
       "<table border=\"1\" class=\"dataframe\">\n",
       "  <thead>\n",
       "    <tr style=\"text-align: right;\">\n",
       "      <th></th>\n",
       "      <th>value</th>\n",
       "    </tr>\n",
       "  </thead>\n",
       "  <tbody>\n",
       "    <tr>\n",
       "      <th>S_G</th>\n",
       "      <td>0.024103</td>\n",
       "    </tr>\n",
       "    <tr>\n",
       "      <th>S_I</th>\n",
       "      <td>0.000779</td>\n",
       "    </tr>\n",
       "  </tbody>\n",
       "</table>\n",
       "</div>"
      ],
      "text/plain": [
       "        value\n",
       "S_G  0.024103\n",
       "S_I  0.000779"
      ]
     },
     "execution_count": 23,
     "metadata": {},
     "output_type": "execute_result"
    }
   ],
   "source": [
    "G0, k1, k2, k3 = best_params\n",
    "indices = modsim.SimpleNamespace(S_G=k1, S_I=k3/k2)\n",
    "modsim.show(indices)"
   ]
  },
  {
   "cell_type": "markdown",
   "metadata": {},
   "source": [
    "According to [Boston et al](https://www.researchgate.net/publication/8931437_MINMOD_Millennium_A_Computer_Program_to_Calculate_Glucose_Effectiveness_and_Insulin_Sensitivity_From_the_Frequently_Sampled_Intravenous_Glucose_Tolerance_Test), normal ranges for these values are..."
   ]
  },
  {
   "cell_type": "code",
   "execution_count": 24,
   "metadata": {},
   "outputs": [
    {
     "data": {
      "text/plain": [
       "(0.0012, 0.045)"
      ]
     },
     "execution_count": 24,
     "metadata": {},
     "output_type": "execute_result"
    }
   ],
   "source": [
    "S_G_interval = 1.2e-3, 4.5e-2\n",
    "S_G_interval"
   ]
  },
  {
   "cell_type": "code",
   "execution_count": 25,
   "metadata": {},
   "outputs": [
    {
     "data": {
      "text/plain": [
       "(5e-05, 0.0022)"
      ]
     },
     "execution_count": 25,
     "metadata": {},
     "output_type": "execute_result"
    }
   ],
   "source": [
    "S_I_interval = 5.0e-5, 2.2e-3\n",
    "S_I_interval"
   ]
  },
  {
   "cell_type": "markdown",
   "metadata": {},
   "source": [
    "The estimated quantities are within the normal intervals."
   ]
  },
  {
   "cell_type": "markdown",
   "metadata": {},
   "source": [
    "## Exercises\n",
    "\n",
    "**Exercise:** How sensitive are the results to the starting guess for the parameters?  If you try different values for the starting guess, do we get the same values for the best parameters?"
   ]
  },
  {
   "cell_type": "code",
   "execution_count": 26,
   "metadata": {},
   "outputs": [
    {
     "data": {
      "text/plain": [
       "(270, 0.02, 0.02, 1.5e-05)"
      ]
     },
     "execution_count": 26,
     "metadata": {},
     "output_type": "execute_result"
    }
   ],
   "source": [
    "params"
   ]
  },
  {
   "cell_type": "code",
   "execution_count": 31,
   "metadata": {},
   "outputs": [
    {
     "data": {
      "text/plain": [
       "array([2.71082804e+02, 2.37314917e-02, 1.61343124e-02, 1.30965678e-05])"
      ]
     },
     "execution_count": 31,
     "metadata": {},
     "output_type": "execute_result"
    }
   ],
   "source": [
    "params = 280, 0.02, 0.02, 1.5e-5\n",
    "best_params, fit_details = modsim.leastsq(error_func, params, data)\n",
    "best_params"
   ]
  },
  {
   "cell_type": "code",
   "execution_count": 32,
   "metadata": {},
   "outputs": [
    {
     "data": {
      "text/plain": [
       "array([2.70172716e+02, 2.30174404e-02, 1.74584847e-02, 1.43217042e-05])"
      ]
     },
     "execution_count": 32,
     "metadata": {},
     "output_type": "execute_result"
    }
   ],
   "source": [
    "params = 200, 0.02, 0.02, 1.5e-5\n",
    "best_params, fit_details = modsim.leastsq(error_func, params, data)\n",
    "best_params"
   ]
  },
  {
   "cell_type": "code",
   "execution_count": 33,
   "metadata": {},
   "outputs": [
    {
     "data": {
      "text/plain": [
       "array([2.69966170e+02, 2.29141472e-02, 1.76812131e-02, 1.43798887e-05])"
      ]
     },
     "execution_count": 33,
     "metadata": {},
     "output_type": "execute_result"
    }
   ],
   "source": [
    "params = 250, 0.02, 0.02, 1.5e-5\n",
    "best_params, fit_details = modsim.leastsq(error_func, params, data)\n",
    "best_params"
   ]
  },
  {
   "cell_type": "code",
   "execution_count": 44,
   "metadata": {},
   "outputs": [
    {
     "data": {
      "text/plain": [
       "array([2.67121981e+02, 1.94482631e-02, 2.19987138e-02, 1.66919068e-05])"
      ]
     },
     "execution_count": 44,
     "metadata": {},
     "output_type": "execute_result"
    }
   ],
   "source": [
    "params = numpy.array([280, 0.02, 0.02, 1.5e-5])*1.1\n",
    "best_params, fit_details = modsim.leastsq(error_func, params, data)\n",
    "best_params"
   ]
  },
  {
   "cell_type": "code",
   "execution_count": null,
   "metadata": {},
   "outputs": [],
   "source": []
  },
  {
   "cell_type": "code",
   "execution_count": null,
   "metadata": {},
   "outputs": [],
   "source": []
  }
 ],
 "metadata": {
  "interpreter": {
   "hash": "e7cb1b9ae4d417fedf7f40a8eec98f7cfbd359e096bd857395a915f4609834ce"
  },
  "kernelspec": {
   "display_name": "Python 3.9.12 ('base')",
   "language": "python",
   "name": "python3"
  },
  "language_info": {
   "codemirror_mode": {
    "name": "ipython",
    "version": 3
   },
   "file_extension": ".py",
   "mimetype": "text/x-python",
   "name": "python",
   "nbconvert_exporter": "python",
   "pygments_lexer": "ipython3",
   "version": "3.9.12"
  }
 },
 "nbformat": 4,
 "nbformat_minor": 2
}
