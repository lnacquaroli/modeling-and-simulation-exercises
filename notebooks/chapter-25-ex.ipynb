{
 "cells": [
  {
   "cell_type": "markdown",
   "metadata": {},
   "source": [
    "# Torque"
   ]
  },
  {
   "cell_type": "code",
   "execution_count": 1,
   "metadata": {},
   "outputs": [],
   "source": [
    "import numpy\n",
    "import pandas\n",
    "from matplotlib import pyplot\n",
    "%matplotlib inline\n",
    "%config InlineBackend.figure_format = \"retina\"\n",
    "\n",
    "import modsim"
   ]
  },
  {
   "cell_type": "markdown",
   "metadata": {},
   "source": [
    "### Teapots and Turntables"
   ]
  },
  {
   "cell_type": "code",
   "execution_count": 2,
   "metadata": {},
   "outputs": [],
   "source": [
    "radius_disk = 0.5     # m\n",
    "mass_disk = 7         # kg\n",
    "radius_pot = 0.4      # m\n",
    "mass_pot = 0.3        # kg\n",
    "force = 2             # N\n",
    "\n",
    "theta_push = 0.5        # radian, angle where I stop pushing on the turntable\n",
    "theta_test = 1.5        # radian, how far the table turns during my test push\n",
    "theta_target = numpy.pi       # radian, where we want the table to be after the second push"
   ]
  },
  {
   "cell_type": "code",
   "execution_count": 3,
   "metadata": {},
   "outputs": [],
   "source": [
    "I_disk = mass_disk * radius_disk**2 / 2 # moment of inertia of the turntable"
   ]
  },
  {
   "cell_type": "code",
   "execution_count": 4,
   "metadata": {},
   "outputs": [],
   "source": [
    "I_pot = mass_pot * radius_pot**2 # moment of intertia of the teapot, as a point mass"
   ]
  },
  {
   "cell_type": "code",
   "execution_count": 5,
   "metadata": {},
   "outputs": [],
   "source": [
    "I_total = I_disk + I_pot"
   ]
  },
  {
   "cell_type": "code",
   "execution_count": 6,
   "metadata": {},
   "outputs": [],
   "source": [
    "torque_friction = 0.3   # N*m, friction in the bearings, For this problem we’ll treat friction as a torque"
   ]
  },
  {
   "cell_type": "code",
   "execution_count": 7,
   "metadata": {},
   "outputs": [],
   "source": [
    "init = modsim.State(theta=0, omega=0)"
   ]
  },
  {
   "cell_type": "code",
   "execution_count": 8,
   "metadata": {},
   "outputs": [],
   "source": [
    "system = modsim.System(\n",
    "    init=init, \n",
    "    force=force,\n",
    "    torque_friction=torque_friction,\n",
    "    t_end=20,\n",
    ")"
   ]
  },
  {
   "cell_type": "code",
   "execution_count": 9,
   "metadata": {},
   "outputs": [],
   "source": [
    "def slope_func(t, state, system):\n",
    "    theta, omega = state\n",
    "    force = system.force\n",
    "    torque_friction = system.torque_friction\n",
    "    \n",
    "    torque = radius_disk * force - torque_friction\n",
    "    alpha = torque / I_total # angular acceleration\n",
    "    \n",
    "    return omega, alpha "
   ]
  },
  {
   "cell_type": "code",
   "execution_count": 10,
   "metadata": {},
   "outputs": [
    {
     "data": {
      "text/plain": [
       "(0, 0.7583965330444203)"
      ]
     },
     "execution_count": 10,
     "metadata": {},
     "output_type": "execute_result"
    }
   ],
   "source": [
    "slope_func(0, system.init, system)"
   ]
  },
  {
   "cell_type": "markdown",
   "metadata": {},
   "source": [
    "### Two Phase Simulation\n",
    "\n",
    "1. During the first phase, force is constant, and we run until theta is 0.5 radians.\n",
    "\n",
    "2. During the second phase, force is 0, and we run until omega is 0."
   ]
  },
  {
   "cell_type": "code",
   "execution_count": 12,
   "metadata": {},
   "outputs": [],
   "source": [
    "# Phase 1:\n",
    "# it stops the simulation when theta reaches theta_push, which is when I stop pushing:\n",
    "def event_func_1(t, state, system):\n",
    "    theta, omega = state\n",
    "    return theta - theta_push"
   ]
  },
  {
   "cell_type": "code",
   "execution_count": 14,
   "metadata": {},
   "outputs": [
    {
     "data": {
      "text/plain": [
       "-0.5"
      ]
     },
     "execution_count": 14,
     "metadata": {},
     "output_type": "execute_result"
    }
   ],
   "source": [
    "event_func_1(0, system.init, system)"
   ]
  },
  {
   "cell_type": "code",
   "execution_count": 15,
   "metadata": {},
   "outputs": [
    {
     "data": {
      "text/plain": [
       "'A termination event occurred.'"
      ]
     },
     "execution_count": 15,
     "metadata": {},
     "output_type": "execute_result"
    }
   ],
   "source": [
    "results_1, details_1 = modsim.run_solve_ivp(system, slope_func, events=event_func_1)\n",
    "details_1.message"
   ]
  },
  {
   "cell_type": "code",
   "execution_count": 16,
   "metadata": {},
   "outputs": [
    {
     "data": {
      "text/html": [
       "<div>\n",
       "<style scoped>\n",
       "    .dataframe tbody tr th:only-of-type {\n",
       "        vertical-align: middle;\n",
       "    }\n",
       "\n",
       "    .dataframe tbody tr th {\n",
       "        vertical-align: top;\n",
       "    }\n",
       "\n",
       "    .dataframe thead th {\n",
       "        text-align: right;\n",
       "    }\n",
       "</style>\n",
       "<table border=\"1\" class=\"dataframe\">\n",
       "  <thead>\n",
       "    <tr style=\"text-align: right;\">\n",
       "      <th></th>\n",
       "      <th>theta</th>\n",
       "      <th>omega</th>\n",
       "    </tr>\n",
       "  </thead>\n",
       "  <tbody>\n",
       "    <tr>\n",
       "      <th>1.102359</th>\n",
       "      <td>0.46080</td>\n",
       "      <td>0.836025</td>\n",
       "    </tr>\n",
       "    <tr>\n",
       "      <th>1.113842</th>\n",
       "      <td>0.47045</td>\n",
       "      <td>0.844734</td>\n",
       "    </tr>\n",
       "    <tr>\n",
       "      <th>1.125325</th>\n",
       "      <td>0.48020</td>\n",
       "      <td>0.853442</td>\n",
       "    </tr>\n",
       "    <tr>\n",
       "      <th>1.136808</th>\n",
       "      <td>0.49005</td>\n",
       "      <td>0.862151</td>\n",
       "    </tr>\n",
       "    <tr>\n",
       "      <th>1.148291</th>\n",
       "      <td>0.50000</td>\n",
       "      <td>0.870860</td>\n",
       "    </tr>\n",
       "  </tbody>\n",
       "</table>\n",
       "</div>"
      ],
      "text/plain": [
       "            theta     omega\n",
       "1.102359  0.46080  0.836025\n",
       "1.113842  0.47045  0.844734\n",
       "1.125325  0.48020  0.853442\n",
       "1.136808  0.49005  0.862151\n",
       "1.148291  0.50000  0.870860"
      ]
     },
     "execution_count": 16,
     "metadata": {},
     "output_type": "execute_result"
    }
   ],
   "source": [
    "results_1.tail()"
   ]
  },
  {
   "cell_type": "code",
   "execution_count": 17,
   "metadata": {},
   "outputs": [],
   "source": [
    "t_2 = results_1.index[-1]\n",
    "init2 = results_1.iloc[-1]"
   ]
  },
  {
   "cell_type": "code",
   "execution_count": 19,
   "metadata": {},
   "outputs": [],
   "source": [
    "# Phase 2: we use the results from the previous phase\n",
    "system2 = system.set(t_0=t_2, init=init2, force=0)"
   ]
  },
  {
   "cell_type": "code",
   "execution_count": 20,
   "metadata": {},
   "outputs": [],
   "source": [
    "def event_func_2(t, state, system):\n",
    "    theta, omega = state\n",
    "    return omega"
   ]
  },
  {
   "cell_type": "code",
   "execution_count": 21,
   "metadata": {},
   "outputs": [
    {
     "data": {
      "text/plain": [
       "0.8708596517490179"
      ]
     },
     "execution_count": 21,
     "metadata": {},
     "output_type": "execute_result"
    }
   ],
   "source": [
    "event_func_2(system2.t_0, system2.init, system2)"
   ]
  },
  {
   "cell_type": "code",
   "execution_count": 22,
   "metadata": {},
   "outputs": [
    {
     "data": {
      "text/plain": [
       "'A termination event occurred.'"
      ]
     },
     "execution_count": 22,
     "metadata": {},
     "output_type": "execute_result"
    }
   ],
   "source": [
    "results2, details2 = modsim.run_solve_ivp(system2, slope_func, events=event_func_2)\n",
    "details2.message"
   ]
  },
  {
   "cell_type": "markdown",
   "metadata": {},
   "source": [
    "### Combining the Results"
   ]
  },
  {
   "cell_type": "code",
   "execution_count": 23,
   "metadata": {},
   "outputs": [],
   "source": [
    "results = results_1.append(results2)"
   ]
  },
  {
   "cell_type": "code",
   "execution_count": 24,
   "metadata": {},
   "outputs": [
    {
     "data": {
      "text/html": [
       "<div>\n",
       "<style scoped>\n",
       "    .dataframe tbody tr th:only-of-type {\n",
       "        vertical-align: middle;\n",
       "    }\n",
       "\n",
       "    .dataframe tbody tr th {\n",
       "        vertical-align: top;\n",
       "    }\n",
       "\n",
       "    .dataframe thead th {\n",
       "        text-align: right;\n",
       "    }\n",
       "</style>\n",
       "<table border=\"1\" class=\"dataframe\">\n",
       "  <thead>\n",
       "    <tr style=\"text-align: right;\">\n",
       "      <th></th>\n",
       "      <th>theta</th>\n",
       "      <th>omega</th>\n",
       "    </tr>\n",
       "  </thead>\n",
       "  <tbody>\n",
       "    <tr>\n",
       "      <th>3.720462</th>\n",
       "      <td>1.664800</td>\n",
       "      <td>3.483439e-02</td>\n",
       "    </tr>\n",
       "    <tr>\n",
       "      <th>3.747255</th>\n",
       "      <td>1.665617</td>\n",
       "      <td>2.612579e-02</td>\n",
       "    </tr>\n",
       "    <tr>\n",
       "      <th>3.774049</th>\n",
       "      <td>1.666200</td>\n",
       "      <td>1.741719e-02</td>\n",
       "    </tr>\n",
       "    <tr>\n",
       "      <th>3.800842</th>\n",
       "      <td>1.666550</td>\n",
       "      <td>8.708597e-03</td>\n",
       "    </tr>\n",
       "    <tr>\n",
       "      <th>3.827636</th>\n",
       "      <td>1.666667</td>\n",
       "      <td>-1.110223e-16</td>\n",
       "    </tr>\n",
       "  </tbody>\n",
       "</table>\n",
       "</div>"
      ],
      "text/plain": [
       "             theta         omega\n",
       "3.720462  1.664800  3.483439e-02\n",
       "3.747255  1.665617  2.612579e-02\n",
       "3.774049  1.666200  1.741719e-02\n",
       "3.800842  1.666550  8.708597e-03\n",
       "3.827636  1.666667 -1.110223e-16"
      ]
     },
     "execution_count": 24,
     "metadata": {},
     "output_type": "execute_result"
    }
   ],
   "source": [
    "results.tail()"
   ]
  },
  {
   "cell_type": "code",
   "execution_count": 25,
   "metadata": {},
   "outputs": [
    {
     "data": {
      "image/png": "[encoded data removed]",
      "text/plain": [
       "<Figure size 432x288 with 1 Axes>"
      ]
     },
     "metadata": {
      "image/png": {
       "height": 279,
       "width": 423
      },
      "needs_background": "light"
     },
     "output_type": "display_data"
    }
   ],
   "source": [
    "results.theta.plot(label='theta')\n",
    "modsim.decorate(xlabel='Time (s)',\n",
    "             ylabel='Angle (rad)')"
   ]
  },
  {
   "cell_type": "code",
   "execution_count": 26,
   "metadata": {},
   "outputs": [
    {
     "data": {
      "image/png": "[encoded data removed]",
      "text/plain": [
       "<Figure size 432x288 with 1 Axes>"
      ]
     },
     "metadata": {
      "image/png": {
       "height": 279,
       "width": 423
      },
      "needs_background": "light"
     },
     "output_type": "display_data"
    }
   ],
   "source": [
    "results.omega.plot(label='omega', color='C1')\n",
    "modsim.decorate(xlabel='Time (s)',\n",
    "             ylabel='Angular velocity (rad/s)')"
   ]
  },
  {
   "cell_type": "markdown",
   "metadata": {},
   "source": [
    "Angular velocity, `omega`, increases linearly while I am pushing, and decreases linearly after I let go. The angle, `theta`, is the integral of angular velocity, so it forms a parabola during each phase.\n",
    "\n"
   ]
  },
  {
   "cell_type": "markdown",
   "metadata": {},
   "source": [
    "### Estimating Friction"
   ]
  },
  {
   "cell_type": "code",
   "execution_count": 27,
   "metadata": {},
   "outputs": [],
   "source": [
    "def run_two_phases(force, torque_friction, system):\n",
    "    \n",
    "    # put the specified parameters into the System object\n",
    "    system1 = system.set(force=force, torque_friction=torque_friction)\n",
    "\n",
    "    # run phase 1\n",
    "    results1, details1 = modsim.run_solve_ivp(system1, slope_func, events=event_func_1)\n",
    "\n",
    "    # get the final state from phase 1\n",
    "    t_2 = results1.index[-1]\n",
    "    init2 = results1.iloc[-1]\n",
    "    \n",
    "    # run phase 2\n",
    "    system2 = system1.set(t_0=t_2, init=init2, force=0)\n",
    "    results2, details2 = modsim.run_solve_ivp(system2, slope_func, events=event_func_2)\n",
    "    \n",
    "    # combine and return the results\n",
    "    results = results1.append(results2)\n",
    "    return results"
   ]
  },
  {
   "cell_type": "code",
   "execution_count": 29,
   "metadata": {},
   "outputs": [
    {
     "data": {
      "text/html": [
       "<div>\n",
       "<style scoped>\n",
       "    .dataframe tbody tr th:only-of-type {\n",
       "        vertical-align: middle;\n",
       "    }\n",
       "\n",
       "    .dataframe tbody tr th {\n",
       "        vertical-align: top;\n",
       "    }\n",
       "\n",
       "    .dataframe thead th {\n",
       "        text-align: right;\n",
       "    }\n",
       "</style>\n",
       "<table border=\"1\" class=\"dataframe\">\n",
       "  <thead>\n",
       "    <tr style=\"text-align: right;\">\n",
       "      <th></th>\n",
       "      <th>theta</th>\n",
       "      <th>omega</th>\n",
       "    </tr>\n",
       "  </thead>\n",
       "  <tbody>\n",
       "    <tr>\n",
       "      <th>3.720462</th>\n",
       "      <td>1.664800</td>\n",
       "      <td>3.483439e-02</td>\n",
       "    </tr>\n",
       "    <tr>\n",
       "      <th>3.747255</th>\n",
       "      <td>1.665617</td>\n",
       "      <td>2.612579e-02</td>\n",
       "    </tr>\n",
       "    <tr>\n",
       "      <th>3.774049</th>\n",
       "      <td>1.666200</td>\n",
       "      <td>1.741719e-02</td>\n",
       "    </tr>\n",
       "    <tr>\n",
       "      <th>3.800842</th>\n",
       "      <td>1.666550</td>\n",
       "      <td>8.708597e-03</td>\n",
       "    </tr>\n",
       "    <tr>\n",
       "      <th>3.827636</th>\n",
       "      <td>1.666667</td>\n",
       "      <td>-1.110223e-16</td>\n",
       "    </tr>\n",
       "  </tbody>\n",
       "</table>\n",
       "</div>"
      ],
      "text/plain": [
       "             theta         omega\n",
       "3.720462  1.664800  3.483439e-02\n",
       "3.747255  1.665617  2.612579e-02\n",
       "3.774049  1.666200  1.741719e-02\n",
       "3.800842  1.666550  8.708597e-03\n",
       "3.827636  1.666667 -1.110223e-16"
      ]
     },
     "execution_count": 29,
     "metadata": {},
     "output_type": "execute_result"
    }
   ],
   "source": [
    "force = 2\n",
    "torque_friction = 0.3\n",
    "results = run_two_phases(force, torque_friction, system)\n",
    "results.tail()"
   ]
  },
  {
   "cell_type": "markdown",
   "metadata": {},
   "source": [
    "We can use `run_two_phases` to write an error function we can use, with `root_scalar`, to find the torque due to friction that yields the observed results from the first push, a total rotation of 1.5 rad."
   ]
  },
  {
   "cell_type": "code",
   "execution_count": 30,
   "metadata": {},
   "outputs": [],
   "source": [
    "def error_func_1(torque_friction, system):\n",
    "    force = system.force\n",
    "    results = run_two_phases(force, torque_friction, system)\n",
    "    theta_final = results.iloc[-1].theta\n",
    "    print(torque_friction, theta_final)\n",
    "    return theta_final - theta_test"
   ]
  },
  {
   "cell_type": "code",
   "execution_count": 31,
   "metadata": {},
   "outputs": [
    {
     "name": "stdout",
     "output_type": "stream",
     "text": [
      "0.3 1.6666666666666667\n"
     ]
    },
    {
     "data": {
      "text/plain": [
       "0.16666666666666674"
      ]
     },
     "execution_count": 31,
     "metadata": {},
     "output_type": "execute_result"
    }
   ],
   "source": [
    "guess1 = 0.3\n",
    "error_func_1(guess1, system)"
   ]
  },
  {
   "cell_type": "code",
   "execution_count": 32,
   "metadata": {},
   "outputs": [
    {
     "name": "stdout",
     "output_type": "stream",
     "text": [
      "0.4 1.2499999999999996\n"
     ]
    },
    {
     "data": {
      "text/plain": [
       "-0.25000000000000044"
      ]
     },
     "execution_count": 32,
     "metadata": {},
     "output_type": "execute_result"
    }
   ],
   "source": [
    "guess2 = 0.4\n",
    "error_func_1(guess2, system)"
   ]
  },
  {
   "cell_type": "code",
   "execution_count": 33,
   "metadata": {},
   "outputs": [
    {
     "name": "stdout",
     "output_type": "stream",
     "text": [
      "0.3 1.6666666666666667\n",
      "0.3 1.6666666666666667\n",
      "0.4 1.2499999999999996\n",
      "0.33999999999999997 1.4705882352941173\n",
      "0.3339999999999999 1.4970059880239515\n",
      "0.33333199999999974 1.5000060000239994\n",
      "0.33334866660099977 1.4999310034693274\n"
     ]
    }
   ],
   "source": [
    "res = modsim.root_scalar(error_func_1, system, bracket=[guess1, guess2])\n"
   ]
  },
  {
   "cell_type": "code",
   "execution_count": 34,
   "metadata": {},
   "outputs": [
    {
     "data": {
      "text/plain": [
       "0.33333199999999974"
      ]
     },
     "execution_count": 34,
     "metadata": {},
     "output_type": "execute_result"
    }
   ],
   "source": [
    "actual_friction = res.root\n",
    "actual_friction"
   ]
  },
  {
   "cell_type": "markdown",
   "metadata": {},
   "source": [
    "### Animating the Turntable"
   ]
  },
  {
   "cell_type": "code",
   "execution_count": 35,
   "metadata": {},
   "outputs": [],
   "source": [
    "from matplotlib.patches import Circle\n",
    "from matplotlib.pyplot import gca, axis\n",
    "\n",
    "def draw_func(t, state):\n",
    "    theta, omega = state\n",
    "    \n",
    "    # draw a circle for the table\n",
    "    circle1 = Circle([0, 0], radius_disk)\n",
    "    gca().add_patch(circle1)\n",
    "    \n",
    "    # draw a circle for the teapot\n",
    "    center = modsim.pol2cart(theta, radius_pot)\n",
    "    circle2 = Circle(center, 0.05, color='C1')\n",
    "    gca().add_patch(circle2)\n",
    "\n",
    "    axis('equal')"
   ]
  },
  {
   "cell_type": "code",
   "execution_count": 36,
   "metadata": {},
   "outputs": [
    {
     "data": {
      "image/png": "[encoded data removed]",
      "text/plain": [
       "<Figure size 432x288 with 1 Axes>"
      ]
     },
     "metadata": {
      "image/png": {
       "height": 248,
       "width": 380
      },
      "needs_background": "light"
     },
     "output_type": "display_data"
    }
   ],
   "source": [
    "state = results.iloc[0]\n",
    "draw_func(0, state)"
   ]
  },
  {
   "cell_type": "code",
   "execution_count": 38,
   "metadata": {},
   "outputs": [
    {
     "data": {
      "image/png": "[encoded data removed]",
      "text/plain": [
       "<Figure size 432x288 with 1 Axes>"
      ]
     },
     "metadata": {
      "image/png": {
       "height": 248,
       "width": 380
      },
      "needs_background": "light"
     },
     "output_type": "display_data"
    }
   ],
   "source": [
    "modsim.animate(results, draw_func)"
   ]
  },
  {
   "cell_type": "markdown",
   "metadata": {},
   "source": [
    "### Exercise 1\n",
    "Continuing the example from this chapter, estimate the force that delivers the teapot to the desired position. Use this `System` object, with the friction we computed in the previous section."
   ]
  },
  {
   "cell_type": "code",
   "execution_count": 39,
   "metadata": {},
   "outputs": [],
   "source": [
    "system3 = system.set(torque_friction=actual_friction)"
   ]
  },
  {
   "cell_type": "markdown",
   "metadata": {},
   "source": [
    "Write an error function that takes force and system, simulates the system, and returns the difference between `theta_final` and the remaining angle after the first push."
   ]
  },
  {
   "cell_type": "code",
   "execution_count": 54,
   "metadata": {},
   "outputs": [],
   "source": [
    "remaining_angle = theta_target - theta_test\n",
    "\n",
    "def error_func_3(force, system):\n",
    "    \"\"\"Error function for root_scalar.\n",
    "    \n",
    "    force: hypothetical value\n",
    "    \n",
    "    returns: offset from target value\n",
    "    \"\"\"\n",
    "    results = run_two_phases(force, system.torque_friction, system)\n",
    "    theta_final = results.iloc[-1].theta\n",
    "    print(force, theta_final)\n",
    "    return theta_final - remaining_angle"
   ]
  },
  {
   "cell_type": "code",
   "execution_count": 55,
   "metadata": {},
   "outputs": [
    {
     "name": "stdout",
     "output_type": "stream",
     "text": [
      "2 1.5000060000239994\n"
     ]
    },
    {
     "data": {
      "text/plain": [
       "-0.1415866535657937"
      ]
     },
     "execution_count": 55,
     "metadata": {},
     "output_type": "execute_result"
    }
   ],
   "source": [
    "error_func_3(2, system3)"
   ]
  },
  {
   "cell_type": "code",
   "execution_count": 57,
   "metadata": {},
   "outputs": [
    {
     "name": "stdout",
     "output_type": "stream",
     "text": [
      "3 2.250009000036003\n"
     ]
    },
    {
     "data": {
      "text/plain": [
       "0.60841634644621"
      ]
     },
     "execution_count": 57,
     "metadata": {},
     "output_type": "execute_result"
    }
   ],
   "source": [
    "error_func_3(3, system3)"
   ]
  },
  {
   "cell_type": "code",
   "execution_count": 58,
   "metadata": {},
   "outputs": [
    {
     "name": "stdout",
     "output_type": "stream",
     "text": [
      "2 1.5000060000239994\n",
      "2.0 1.5000060000239994\n",
      "3.0 2.250009000036003\n",
      "2.1887814496255715 1.6415926535897933\n",
      "2.1886720105520903 1.6415105739563658\n"
     ]
    }
   ],
   "source": [
    "res_2 = modsim.root_scalar(error_func_3, system3, bracket=[2, 3])\n"
   ]
  },
  {
   "cell_type": "code",
   "execution_count": 59,
   "metadata": {},
   "outputs": [
    {
     "data": {
      "text/plain": [
       "      converged: True\n",
       "           flag: 'converged'\n",
       " function_calls: 4\n",
       "     iterations: 3\n",
       "           root: 2.1887814496255715"
      ]
     },
     "execution_count": 59,
     "metadata": {},
     "output_type": "execute_result"
    }
   ],
   "source": [
    "res_2"
   ]
  },
  {
   "cell_type": "code",
   "execution_count": 60,
   "metadata": {},
   "outputs": [],
   "source": [
    "results_2 = run_two_phases(res_2.root, system3.torque_friction, system3)"
   ]
  },
  {
   "cell_type": "code",
   "execution_count": 61,
   "metadata": {},
   "outputs": [
    {
     "data": {
      "text/html": [
       "<div>\n",
       "<style scoped>\n",
       "    .dataframe tbody tr th:only-of-type {\n",
       "        vertical-align: middle;\n",
       "    }\n",
       "\n",
       "    .dataframe tbody tr th {\n",
       "        vertical-align: top;\n",
       "    }\n",
       "\n",
       "    .dataframe thead th {\n",
       "        text-align: right;\n",
       "    }\n",
       "</style>\n",
       "<table border=\"1\" class=\"dataframe\">\n",
       "  <thead>\n",
       "    <tr style=\"text-align: right;\">\n",
       "      <th></th>\n",
       "      <th>theta</th>\n",
       "      <th>omega</th>\n",
       "    </tr>\n",
       "  </thead>\n",
       "  <tbody>\n",
       "    <tr>\n",
       "      <th>3.515081</th>\n",
       "      <td>1.639766</td>\n",
       "      <td>3.632187e-02</td>\n",
       "    </tr>\n",
       "    <tr>\n",
       "      <th>3.540225</th>\n",
       "      <td>1.640565</td>\n",
       "      <td>2.724140e-02</td>\n",
       "    </tr>\n",
       "    <tr>\n",
       "      <th>3.565369</th>\n",
       "      <td>1.641136</td>\n",
       "      <td>1.816094e-02</td>\n",
       "    </tr>\n",
       "    <tr>\n",
       "      <th>3.590513</th>\n",
       "      <td>1.641478</td>\n",
       "      <td>9.080468e-03</td>\n",
       "    </tr>\n",
       "    <tr>\n",
       "      <th>3.615656</th>\n",
       "      <td>1.641593</td>\n",
       "      <td>2.220446e-16</td>\n",
       "    </tr>\n",
       "  </tbody>\n",
       "</table>\n",
       "</div>"
      ],
      "text/plain": [
       "             theta         omega\n",
       "3.515081  1.639766  3.632187e-02\n",
       "3.540225  1.640565  2.724140e-02\n",
       "3.565369  1.641136  1.816094e-02\n",
       "3.590513  1.641478  9.080468e-03\n",
       "3.615656  1.641593  2.220446e-16"
      ]
     },
     "execution_count": 61,
     "metadata": {},
     "output_type": "execute_result"
    }
   ],
   "source": [
    "results_2.tail()"
   ]
  },
  {
   "cell_type": "code",
   "execution_count": 64,
   "metadata": {},
   "outputs": [
    {
     "data": {
      "text/plain": [
       "3.141592653589793"
      ]
     },
     "execution_count": 64,
     "metadata": {},
     "output_type": "execute_result"
    }
   ],
   "source": [
    "theta_final = results_2.iloc[-1].theta\n",
    "theta_final + theta_test"
   ]
  },
  {
   "cell_type": "code",
   "execution_count": 63,
   "metadata": {},
   "outputs": [
    {
     "data": {
      "text/plain": [
       "3.141592653589793"
      ]
     },
     "execution_count": 63,
     "metadata": {},
     "output_type": "execute_result"
    }
   ],
   "source": [
    "theta_target"
   ]
  },
  {
   "cell_type": "code",
   "execution_count": null,
   "metadata": {},
   "outputs": [],
   "source": []
  }
 ],
 "metadata": {
  "kernelspec": {
   "display_name": "Python 3.9.12 ('base')",
   "language": "python",
   "name": "python3"
  },
  "language_info": {
   "codemirror_mode": {
    "name": "ipython",
    "version": 3
   },
   "file_extension": ".py",
   "mimetype": "text/x-python",
   "name": "python",
   "nbconvert_exporter": "python",
   "pygments_lexer": "ipython3",
   "version": "3.9.12"
  },
  "orig_nbformat": 4,
  "vscode": {
   "interpreter": {
    "hash": "e7cb1b9ae4d417fedf7f40a8eec98f7cfbd359e096bd857395a915f4609834ce"
   }
  }
 },
 "nbformat": 4,
 "nbformat_minor": 2
}
