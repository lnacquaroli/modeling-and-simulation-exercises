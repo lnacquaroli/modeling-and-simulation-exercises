{
 "cells": [
  {
   "cell_type": "markdown",
   "metadata": {},
   "source": [
    "# Optimal Baseball"
   ]
  },
  {
   "cell_type": "code",
   "execution_count": 6,
   "metadata": {},
   "outputs": [],
   "source": [
    "import numpy\n",
    "from scipy.interpolate import interp1d\n",
    "import pandas\n",
    "from matplotlib import pyplot\n",
    "%matplotlib inline\n",
    "%config InlineBackend.figure_format = \"retina\"\n",
    "\n",
    "import modsim"
   ]
  },
  {
   "cell_type": "code",
   "execution_count": 7,
   "metadata": {},
   "outputs": [],
   "source": [
    "params = modsim.Params(\n",
    "    x = 0,          # m\n",
    "    y = 1,          # m\n",
    "    angle = 45,     # degree\n",
    "    speed = 40,  # m / s\n",
    "\n",
    "    mass = 145e-3,    # kg \n",
    "    diameter = 73e-3, # m \n",
    "    C_d = 0.33,       # dimensionless\n",
    "\n",
    "    rho = 1.2,      # kg/m**3\n",
    "    g = 9.8,        # m/s**2\n",
    "    t_end = 10,     # s\n",
    ")"
   ]
  },
  {
   "cell_type": "code",
   "execution_count": 8,
   "metadata": {},
   "outputs": [
    {
     "data": {
      "text/html": [
       "<div>\n",
       "<style scoped>\n",
       "    .dataframe tbody tr th:only-of-type {\n",
       "        vertical-align: middle;\n",
       "    }\n",
       "\n",
       "    .dataframe tbody tr th {\n",
       "        vertical-align: top;\n",
       "    }\n",
       "\n",
       "    .dataframe thead th {\n",
       "        text-align: right;\n",
       "    }\n",
       "</style>\n",
       "<table border=\"1\" class=\"dataframe\">\n",
       "  <thead>\n",
       "    <tr style=\"text-align: right;\">\n",
       "      <th></th>\n",
       "      <th>value</th>\n",
       "    </tr>\n",
       "  </thead>\n",
       "  <tbody>\n",
       "    <tr>\n",
       "      <th>x</th>\n",
       "      <td>0.0000</td>\n",
       "    </tr>\n",
       "    <tr>\n",
       "      <th>y</th>\n",
       "      <td>1.0000</td>\n",
       "    </tr>\n",
       "    <tr>\n",
       "      <th>angle</th>\n",
       "      <td>45.0000</td>\n",
       "    </tr>\n",
       "    <tr>\n",
       "      <th>speed</th>\n",
       "      <td>40.0000</td>\n",
       "    </tr>\n",
       "    <tr>\n",
       "      <th>mass</th>\n",
       "      <td>0.1450</td>\n",
       "    </tr>\n",
       "    <tr>\n",
       "      <th>diameter</th>\n",
       "      <td>0.0730</td>\n",
       "    </tr>\n",
       "    <tr>\n",
       "      <th>C_d</th>\n",
       "      <td>0.3300</td>\n",
       "    </tr>\n",
       "    <tr>\n",
       "      <th>rho</th>\n",
       "      <td>1.2000</td>\n",
       "    </tr>\n",
       "    <tr>\n",
       "      <th>g</th>\n",
       "      <td>9.8000</td>\n",
       "    </tr>\n",
       "    <tr>\n",
       "      <th>t_end</th>\n",
       "      <td>10.0000</td>\n",
       "    </tr>\n",
       "    <tr>\n",
       "      <th>wall_distance</th>\n",
       "      <td>94.4880</td>\n",
       "    </tr>\n",
       "    <tr>\n",
       "      <th>wall_height</th>\n",
       "      <td>11.2776</td>\n",
       "    </tr>\n",
       "  </tbody>\n",
       "</table>\n",
       "</div>"
      ],
      "text/plain": [
       "                 value\n",
       "x               0.0000\n",
       "y               1.0000\n",
       "angle          45.0000\n",
       "speed          40.0000\n",
       "mass            0.1450\n",
       "diameter        0.0730\n",
       "C_d             0.3300\n",
       "rho             1.2000\n",
       "g               9.8000\n",
       "t_end          10.0000\n",
       "wall_distance  94.4880\n",
       "wall_height    11.2776"
      ]
     },
     "execution_count": 8,
     "metadata": {},
     "output_type": "execute_result"
    }
   ],
   "source": [
    "params = params.set(\n",
    "    wall_distance = 94.4880,\n",
    "    wall_height = 11.2776,\n",
    ")\n",
    "\n",
    "modsim.show(params)"
   ]
  },
  {
   "cell_type": "code",
   "execution_count": 9,
   "metadata": {},
   "outputs": [],
   "source": [
    "def make_system(params):\n",
    "    \n",
    "    # convert angle to degrees\n",
    "    theta = numpy.deg2rad(params.angle)\n",
    "    \n",
    "    # compute x and y components of velocity\n",
    "    vx, vy = modsim.pol2cart(theta, params.speed)\n",
    "    \n",
    "    # make the initial state\n",
    "    init = modsim.State(x=params.x, y=params.y, vx=vx, vy=vy)\n",
    "    \n",
    "    # compute the frontal area\n",
    "    area = numpy.pi * (params.diameter/2)**2\n",
    "\n",
    "    return modsim.System(params,\n",
    "                         init = init,\n",
    "                         area = area)"
   ]
  },
  {
   "cell_type": "code",
   "execution_count": 10,
   "metadata": {},
   "outputs": [],
   "source": [
    "def drag_force(V, system):\n",
    "    rho, C_d, area = system.rho, system.C_d, system.area\n",
    "    \n",
    "    mag = rho * modsim.vector_mag(V)**2 * C_d * area / 2\n",
    "    direction = - modsim.vector_hat(V)\n",
    "    f_drag = mag * direction\n",
    "    return f_drag"
   ]
  },
  {
   "cell_type": "code",
   "execution_count": 11,
   "metadata": {},
   "outputs": [],
   "source": [
    "def event_func(t, state, system):\n",
    "    x, y, vx, vy = state\n",
    "    return y"
   ]
  },
  {
   "cell_type": "code",
   "execution_count": 12,
   "metadata": {},
   "outputs": [],
   "source": [
    "def slope_func(t, state, system):\n",
    "    x, y, vx, vy = state\n",
    "    mass, g = system.mass, system.g\n",
    "    \n",
    "    V = modsim.Vector(vx, vy) # velocity\n",
    "    \n",
    "    a_drag = drag_force(V, system) / mass\n",
    "    a_grav = g * modsim.Vector(0, -1)\n",
    "    A = a_grav + a_drag # acceleration\n",
    "    \n",
    "    return V.x, V.y, A.x, A.y"
   ]
  },
  {
   "cell_type": "code",
   "execution_count": 13,
   "metadata": {},
   "outputs": [],
   "source": [
    "def range_func(angle, params):\n",
    "    params = params.set(angle=angle)\n",
    "    system = make_system(params)\n",
    "    results, details = modsim.run_solve_ivp(system, slope_func,\n",
    "                                     events=event_func)\n",
    "    x_dist = results.iloc[-1].x\n",
    "    print(angle, x_dist)\n",
    "    return x_dist"
   ]
  },
  {
   "cell_type": "code",
   "execution_count": 14,
   "metadata": {},
   "outputs": [
    {
     "name": "stdout",
     "output_type": "stream",
     "text": [
      "45 99.31829628352205\n"
     ]
    },
    {
     "data": {
      "text/plain": [
       "99.31829628352205"
      ]
     },
     "execution_count": 14,
     "metadata": {},
     "output_type": "execute_result"
    }
   ],
   "source": [
    "range_func(45, params)"
   ]
  },
  {
   "cell_type": "code",
   "execution_count": 15,
   "metadata": {},
   "outputs": [
    {
     "name": "stdout",
     "output_type": "stream",
     "text": [
      "20.0 78.09741067882733\n",
      "23.0 84.11542610650984\n",
      "26.0 89.13192412363972\n",
      "29.0 93.17466724082831\n",
      "32.0 96.2713473739135\n",
      "35.0 98.44725560274011\n",
      "38.0 99.72474586365277\n",
      "41.0 100.12347299697635\n",
      "44.0 99.66100302635334\n",
      "47.0 98.3535476368483\n",
      "50.0 96.21673516565129\n",
      "53.0 93.26623796736264\n",
      "56.0 89.51751617672979\n",
      "59.0 84.98724481958084\n",
      "62.0 79.69434524339994\n",
      "65.0 73.66129770133254\n",
      "68.0 66.91470886279745\n",
      "71.0 59.48269492939725\n",
      "74.0 51.4028710994044\n",
      "77.0 42.720479255334496\n",
      "80.0 33.484379808139316\n"
     ]
    }
   ],
   "source": [
    "angles = numpy.linspace(20, 80, 21)\n",
    "sweep = modsim.SweepSeries()\n",
    "\n",
    "for angle in angles:\n",
    "    x_dist = range_func(angle, params)\n",
    "    sweep[angle] = x_dist"
   ]
  },
  {
   "cell_type": "code",
   "execution_count": 16,
   "metadata": {},
   "outputs": [
    {
     "data": {
      "image/png": "[encoded data removed]",
      "text/plain": [
       "<Figure size 432x288 with 1 Axes>"
      ]
     },
     "metadata": {
      "image/png": {
       "height": 279,
       "width": 424
      },
      "needs_background": "light"
     },
     "output_type": "display_data"
    }
   ],
   "source": [
    "sweep.plot()\n",
    "\n",
    "modsim.decorate(xlabel='Launch angle (degree)',\n",
    "         ylabel='Range (meter)')"
   ]
  },
  {
   "cell_type": "code",
   "execution_count": 17,
   "metadata": {},
   "outputs": [
    {
     "name": "stdout",
     "output_type": "stream",
     "text": [
      "0 17.468795355645703\n",
      "34.37694101250946 98.06996498016369\n",
      "55.62305898749054 90.03182421721924\n",
      "21.246117974981075 80.72039493627989\n",
      "41.173855871043976 100.12001889316983\n",
      "40.98012090783802 100.12368377099193\n",
      "40.88213731907448 100.12417004431842\n",
      "40.879254201231156 100.12417043309698\n",
      "40.87928713855166 100.12417043314983\n",
      "40.879291078222806 100.12417043314913\n",
      "40.879283198880515 100.12417043314889\n"
     ]
    }
   ],
   "source": [
    "res = modsim.maximize_scalar(range_func, params, bounds=[0, 90])"
   ]
  },
  {
   "cell_type": "code",
   "execution_count": 18,
   "metadata": {},
   "outputs": [
    {
     "data": {
      "text/plain": [
       "     fun: 100.12417043314983\n",
       " message: 'Solution found.'\n",
       "    nfev: 10\n",
       "  status: 0\n",
       " success: True\n",
       "       x: 40.87928713855166"
      ]
     },
     "execution_count": 18,
     "metadata": {},
     "output_type": "execute_result"
    }
   ],
   "source": [
    "res"
   ]
  },
  {
   "cell_type": "code",
   "execution_count": 19,
   "metadata": {},
   "outputs": [
    {
     "data": {
      "text/plain": [
       "(40.87928713855166, 100.12417043314983)"
      ]
     },
     "execution_count": 19,
     "metadata": {},
     "output_type": "execute_result"
    }
   ],
   "source": [
    "res.x, res.fun"
   ]
  },
  {
   "cell_type": "markdown",
   "metadata": {},
   "source": [
    "### Exercise 1\n",
    "Let’s finish off the Manny Ramirez problem:\n",
    "\n",
    "> What is the minimum effort required to hit a home run in Fenway Park?\n",
    "\n",
    "Although the problem asks for a minimum, it is not an optimization problem. Rather, we want to solve for the initial speed that just barely gets the ball to the top of the wall, given that it is launched at the optimal angle.\n",
    "\n",
    "And we have to be careful about what we mean by “optimal”. For this problem, we don’t want the longest range; we want the maximum height at the point where it reaches the wall."
   ]
  },
  {
   "cell_type": "code",
   "execution_count": 31,
   "metadata": {},
   "outputs": [],
   "source": [
    "def event_func_2(t, state, system):\n",
    "    x, y, vx, vy = state\n",
    "    return x - system.wall_distance"
   ]
  },
  {
   "cell_type": "code",
   "execution_count": 32,
   "metadata": {},
   "outputs": [],
   "source": [
    "system = make_system(params)"
   ]
  },
  {
   "cell_type": "code",
   "execution_count": 33,
   "metadata": {},
   "outputs": [
    {
     "data": {
      "text/plain": [
       "-94.488"
      ]
     },
     "execution_count": 33,
     "metadata": {},
     "output_type": "execute_result"
    }
   ],
   "source": [
    "event_func_2(0, system.init, system)"
   ]
  },
  {
   "cell_type": "code",
   "execution_count": 34,
   "metadata": {},
   "outputs": [],
   "source": [
    "def height_func(angle, params):\n",
    "    params = params.set(angle=angle)\n",
    "    system = make_system(params)\n",
    "    \n",
    "    results, details = modsim.run_solve_ivp(\n",
    "        system, slope_func, \n",
    "        events=event_func_2,\n",
    "    )\n",
    "    \n",
    "    height = results.iloc[-1].y\n",
    "    return height"
   ]
  },
  {
   "cell_type": "code",
   "execution_count": 36,
   "metadata": {},
   "outputs": [
    {
     "data": {
      "text/plain": [
       "6.661045303535722"
      ]
     },
     "execution_count": 36,
     "metadata": {},
     "output_type": "execute_result"
    }
   ],
   "source": [
    "height_func(40, params)"
   ]
  },
  {
   "cell_type": "code",
   "execution_count": 37,
   "metadata": {},
   "outputs": [],
   "source": [
    "res_2 = modsim.maximize_scalar(height_func, params, bounds=[0, 90])"
   ]
  },
  {
   "cell_type": "code",
   "execution_count": 39,
   "metadata": {},
   "outputs": [
    {
     "data": {
      "text/plain": [
       "     fun: 7.217049532932904\n",
       " message: 'Solution found.'\n",
       "    nfev: 13\n",
       "  status: 0\n",
       " success: True\n",
       "       x: 43.10508097897547"
      ]
     },
     "execution_count": 39,
     "metadata": {},
     "output_type": "execute_result"
    }
   ],
   "source": [
    "res_2"
   ]
  },
  {
   "cell_type": "code",
   "execution_count": 38,
   "metadata": {},
   "outputs": [
    {
     "data": {
      "text/plain": [
       "(43.10508097897547, 7.217049532932904)"
      ]
     },
     "execution_count": 38,
     "metadata": {},
     "output_type": "execute_result"
    }
   ],
   "source": [
    "res_2.x, res_2.fun"
   ]
  },
  {
   "cell_type": "code",
   "execution_count": 52,
   "metadata": {},
   "outputs": [],
   "source": [
    "# Function that estsimates the speed neccessary to reach the wall height\n",
    "def error_func(speed, params):\n",
    "    params = params.set(speed=speed)\n",
    "    res = modsim.maximize_scalar(height_func, params, bounds=[0, 90])\n",
    "    return res.fun - params.wall_height"
   ]
  },
  {
   "cell_type": "code",
   "execution_count": 53,
   "metadata": {},
   "outputs": [
    {
     "data": {
      "text/plain": [
       "-4.060550467067095"
      ]
     },
     "execution_count": 53,
     "metadata": {},
     "output_type": "execute_result"
    }
   ],
   "source": [
    "error_func(40, params)"
   ]
  },
  {
   "cell_type": "code",
   "execution_count": 54,
   "metadata": {},
   "outputs": [],
   "source": [
    "results = modsim.root_scalar(error_func, params, bracket=[30, 50])"
   ]
  },
  {
   "cell_type": "code",
   "execution_count": 55,
   "metadata": {},
   "outputs": [
    {
     "data": {
      "text/plain": [
       "      converged: True\n",
       "           flag: 'converged'\n",
       " function_calls: 6\n",
       "     iterations: 5\n",
       "           root: 41.039294634028856"
      ]
     },
     "execution_count": 55,
     "metadata": {},
     "output_type": "execute_result"
    }
   ],
   "source": [
    "results"
   ]
  },
  {
   "cell_type": "code",
   "execution_count": 56,
   "metadata": {},
   "outputs": [
    {
     "data": {
      "text/plain": [
       "0.0010039392294949323"
      ]
     },
     "execution_count": 56,
     "metadata": {},
     "output_type": "execute_result"
    }
   ],
   "source": [
    "error_func(results.root, params)\n"
   ]
  },
  {
   "cell_type": "code",
   "execution_count": null,
   "metadata": {},
   "outputs": [],
   "source": []
  }
 ],
 "metadata": {
  "kernelspec": {
   "display_name": "Python 3.9.12 ('base')",
   "language": "python",
   "name": "python3"
  },
  "language_info": {
   "codemirror_mode": {
    "name": "ipython",
    "version": 3
   },
   "file_extension": ".py",
   "mimetype": "text/x-python",
   "name": "python",
   "nbconvert_exporter": "python",
   "pygments_lexer": "ipython3",
   "version": "3.9.12"
  },
  "orig_nbformat": 4,
  "vscode": {
   "interpreter": {
    "hash": "e7cb1b9ae4d417fedf7f40a8eec98f7cfbd359e096bd857395a915f4609834ce"
   }
  }
 },
 "nbformat": 4,
 "nbformat_minor": 2
}
