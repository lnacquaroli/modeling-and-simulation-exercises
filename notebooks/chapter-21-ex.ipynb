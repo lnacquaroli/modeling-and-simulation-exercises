{
 "cells": [
  {
   "cell_type": "markdown",
   "metadata": {},
   "source": [
    "# Drag"
   ]
  },
  {
   "cell_type": "code",
   "execution_count": 1,
   "metadata": {},
   "outputs": [],
   "source": [
    "import numpy\n",
    "import pandas\n",
    "from matplotlib import pyplot\n",
    "%matplotlib inline\n",
    "%config InlineBackend.figure_format = \"retina\"\n",
    "\n",
    "import modsim"
   ]
  },
  {
   "cell_type": "code",
   "execution_count": 2,
   "metadata": {},
   "outputs": [],
   "source": [
    "params = modsim.Params(\n",
    "    mass = 0.0025,      # kg\n",
    "    diameter = 0.019,   # m\n",
    "    rho = 1.2,          # kg/m**3\n",
    "    g = 9.8,            # m/s**2\n",
    "    v_init = 0,         # m / s\n",
    "    v_term = 18,        # m / s\n",
    "    height = 381,       # m\n",
    "    t_end = 30,         # s\n",
    ")"
   ]
  },
  {
   "cell_type": "code",
   "execution_count": 3,
   "metadata": {},
   "outputs": [],
   "source": [
    "def make_system(params):\n",
    "    init = modsim.State(y=params.height, v=params.v_init)\n",
    "\n",
    "    area = numpy.pi * (params.diameter/2)**2\n",
    "\n",
    "    C_d = (2 * params.mass * params.g / \n",
    "           (params.rho * area * params.v_term**2))\n",
    "\n",
    "    return modsim.System(\n",
    "        init=init,\n",
    "        area=area,\n",
    "        C_d=C_d,\n",
    "        mass=params.mass,\n",
    "        rho=params.rho,\n",
    "        g=params.g,\n",
    "        t_end=params.t_end,\n",
    "    )"
   ]
  },
  {
   "cell_type": "code",
   "execution_count": 4,
   "metadata": {},
   "outputs": [
    {
     "data": {
      "text/plain": [
       "namespace(init=y    381\n",
       "               v      0\n",
       "               Name: state, dtype: int64,\n",
       "          area=0.0002835287369864788,\n",
       "          C_d=0.4445009981135434,\n",
       "          mass=0.0025,\n",
       "          rho=1.2,\n",
       "          g=9.8,\n",
       "          t_end=30)"
      ]
     },
     "execution_count": 4,
     "metadata": {},
     "output_type": "execute_result"
    }
   ],
   "source": [
    "system = make_system(params)\n",
    "system"
   ]
  },
  {
   "cell_type": "code",
   "execution_count": 5,
   "metadata": {},
   "outputs": [
    {
     "data": {
      "text/plain": [
       "0.4445009981135434"
      ]
     },
     "execution_count": 5,
     "metadata": {},
     "output_type": "execute_result"
    }
   ],
   "source": [
    "system.C_d"
   ]
  },
  {
   "cell_type": "code",
   "execution_count": 6,
   "metadata": {},
   "outputs": [],
   "source": [
    "params2 = params.set(v_term=20)"
   ]
  },
  {
   "cell_type": "code",
   "execution_count": 7,
   "metadata": {},
   "outputs": [
    {
     "data": {
      "text/plain": [
       "0.3600458084719701"
      ]
     },
     "execution_count": 7,
     "metadata": {},
     "output_type": "execute_result"
    }
   ],
   "source": [
    "system2 = make_system(params2)\n",
    "system2.C_d"
   ]
  },
  {
   "cell_type": "markdown",
   "metadata": {},
   "source": [
    "### Simulating the Penny Drop"
   ]
  },
  {
   "cell_type": "code",
   "execution_count": 8,
   "metadata": {},
   "outputs": [],
   "source": [
    "def slope_func(t, state, system):\n",
    "    y, v = state\n",
    "    rho, C_d, area = system.rho, system.C_d, system.area\n",
    "    mass, g = system.mass, system.g\n",
    "    \n",
    "    f_drag = rho * v**2 * C_d * area / 2\n",
    "    a_drag = f_drag / mass\n",
    "    \n",
    "    dydt = v\n",
    "    dvdt = -g + a_drag\n",
    "    \n",
    "    return dydt, dvdt"
   ]
  },
  {
   "cell_type": "code",
   "execution_count": 9,
   "metadata": {},
   "outputs": [
    {
     "data": {
      "text/plain": [
       "(0, -9.8)"
      ]
     },
     "execution_count": 9,
     "metadata": {},
     "output_type": "execute_result"
    }
   ],
   "source": [
    "slope_func(0, system.init, system)"
   ]
  },
  {
   "cell_type": "code",
   "execution_count": 10,
   "metadata": {},
   "outputs": [],
   "source": [
    "def event_func(t, state, system):\n",
    "    y, v = state\n",
    "    return y"
   ]
  },
  {
   "cell_type": "code",
   "execution_count": 11,
   "metadata": {},
   "outputs": [
    {
     "data": {
      "text/plain": [
       "'A termination event occurred.'"
      ]
     },
     "execution_count": 11,
     "metadata": {},
     "output_type": "execute_result"
    }
   ],
   "source": [
    "results, details = modsim.run_solve_ivp(system, slope_func, events=event_func)\n",
    "details.message"
   ]
  },
  {
   "cell_type": "code",
   "execution_count": 12,
   "metadata": {},
   "outputs": [
    {
     "data": {
      "text/html": [
       "<div>\n",
       "<style scoped>\n",
       "    .dataframe tbody tr th:only-of-type {\n",
       "        vertical-align: middle;\n",
       "    }\n",
       "\n",
       "    .dataframe tbody tr th {\n",
       "        vertical-align: top;\n",
       "    }\n",
       "\n",
       "    .dataframe thead th {\n",
       "        text-align: right;\n",
       "    }\n",
       "</style>\n",
       "<table border=\"1\" class=\"dataframe\">\n",
       "  <thead>\n",
       "    <tr style=\"text-align: right;\">\n",
       "      <th></th>\n",
       "      <th>y</th>\n",
       "      <th>v</th>\n",
       "    </tr>\n",
       "  </thead>\n",
       "  <tbody>\n",
       "    <tr>\n",
       "      <th>21.541886</th>\n",
       "      <td>16.147430</td>\n",
       "      <td>-18.001510</td>\n",
       "    </tr>\n",
       "    <tr>\n",
       "      <th>21.766281</th>\n",
       "      <td>12.112646</td>\n",
       "      <td>-18.006240</td>\n",
       "    </tr>\n",
       "    <tr>\n",
       "      <th>21.990676</th>\n",
       "      <td>8.076745</td>\n",
       "      <td>-18.009752</td>\n",
       "    </tr>\n",
       "    <tr>\n",
       "      <th>22.215070</th>\n",
       "      <td>4.039275</td>\n",
       "      <td>-18.011553</td>\n",
       "    </tr>\n",
       "    <tr>\n",
       "      <th>22.439465</th>\n",
       "      <td>0.000000</td>\n",
       "      <td>-18.011383</td>\n",
       "    </tr>\n",
       "  </tbody>\n",
       "</table>\n",
       "</div>"
      ],
      "text/plain": [
       "                   y          v\n",
       "21.541886  16.147430 -18.001510\n",
       "21.766281  12.112646 -18.006240\n",
       "21.990676   8.076745 -18.009752\n",
       "22.215070   4.039275 -18.011553\n",
       "22.439465   0.000000 -18.011383"
      ]
     },
     "execution_count": 12,
     "metadata": {},
     "output_type": "execute_result"
    }
   ],
   "source": [
    "results.tail()"
   ]
  },
  {
   "cell_type": "code",
   "execution_count": 13,
   "metadata": {},
   "outputs": [
    {
     "data": {
      "text/plain": [
       "22.43946505804431"
      ]
     },
     "execution_count": 13,
     "metadata": {},
     "output_type": "execute_result"
    }
   ],
   "source": [
    "t_sidewalk = results.index[-1]\n",
    "t_sidewalk"
   ]
  },
  {
   "cell_type": "code",
   "execution_count": 14,
   "metadata": {},
   "outputs": [
    {
     "data": {
      "image/png": "[encoded data removed]",
      "text/plain": [
       "<Figure size 432x288 with 1 Axes>"
      ]
     },
     "metadata": {
      "image/png": {
       "height": 279,
       "width": 424
      },
      "needs_background": "light"
     },
     "output_type": "display_data"
    }
   ],
   "source": [
    "def plot_position(results):\n",
    "    results.y.plot()\n",
    "        \n",
    "    modsim.decorate(xlabel='Time (s)', ylabel='Position (m)')\n",
    "    \n",
    "plot_position(results)"
   ]
  },
  {
   "cell_type": "code",
   "execution_count": 15,
   "metadata": {},
   "outputs": [
    {
     "data": {
      "image/png": "[encoded data removed]",
      "text/plain": [
       "<Figure size 432x288 with 1 Axes>"
      ]
     },
     "metadata": {
      "image/png": {
       "height": 279,
       "width": 424
      },
      "needs_background": "light"
     },
     "output_type": "display_data"
    }
   ],
   "source": [
    "def plot_velocity(results):\n",
    "\n",
    "    results.v.plot(color='C1', label='v')\n",
    "        \n",
    "    modsim.decorate(xlabel='Time (s)',\n",
    "             ylabel='Velocity (m/s)')\n",
    "    \n",
    "plot_velocity(results)"
   ]
  },
  {
   "cell_type": "markdown",
   "metadata": {},
   "source": [
    "### Exercise 1\n",
    "Run the simulation with a downward initial velocity that exceeds the penny’s terminal velocity.\n",
    "\n",
    "What do you expect to happen? Plot velocity and position as a function of time, and see if they are consistent with your prediction.\n",
    "\n",
    "Hint: Use `params.set` to make a new `Params` object with a different initial velocity."
   ]
  },
  {
   "cell_type": "code",
   "execution_count": 16,
   "metadata": {},
   "outputs": [
    {
     "data": {
      "text/plain": [
       "{'mass': 0.0025,\n",
       " 'diameter': 0.019,\n",
       " 'rho': 1.2,\n",
       " 'g': 9.8,\n",
       " 'v_init': 0,\n",
       " 'v_term': 18,\n",
       " 'height': 381,\n",
       " 't_end': 30}"
      ]
     },
     "execution_count": 16,
     "metadata": {},
     "output_type": "execute_result"
    }
   ],
   "source": [
    "params.__dict__"
   ]
  },
  {
   "cell_type": "code",
   "execution_count": 27,
   "metadata": {},
   "outputs": [],
   "source": [
    "params1 = params.set(v_init=-36)"
   ]
  },
  {
   "cell_type": "code",
   "execution_count": 28,
   "metadata": {},
   "outputs": [
    {
     "data": {
      "text/plain": [
       "namespace(init=y    381\n",
       "               v    -36\n",
       "               Name: state, dtype: int64,\n",
       "          area=0.0002835287369864788,\n",
       "          C_d=0.4445009981135434,\n",
       "          mass=0.0025,\n",
       "          rho=1.2,\n",
       "          g=9.8,\n",
       "          t_end=30)"
      ]
     },
     "execution_count": 28,
     "metadata": {},
     "output_type": "execute_result"
    }
   ],
   "source": [
    "system1 = make_system(params1)\n",
    "system1"
   ]
  },
  {
   "cell_type": "code",
   "execution_count": 29,
   "metadata": {},
   "outputs": [
    {
     "data": {
      "text/plain": [
       "(-36, 29.400000000000002)"
      ]
     },
     "execution_count": 29,
     "metadata": {},
     "output_type": "execute_result"
    }
   ],
   "source": [
    "slope_func(0, system1.init, system1)"
   ]
  },
  {
   "cell_type": "code",
   "execution_count": 30,
   "metadata": {},
   "outputs": [
    {
     "data": {
      "text/plain": [
       "'A termination event occurred.'"
      ]
     },
     "execution_count": 30,
     "metadata": {},
     "output_type": "execute_result"
    }
   ],
   "source": [
    "results1, details1 = modsim.run_solve_ivp(system1, slope_func, events=event_func)\n",
    "details1.message"
   ]
  },
  {
   "cell_type": "code",
   "execution_count": 32,
   "metadata": {},
   "outputs": [
    {
     "data": {
      "image/png": "[encoded data removed]",
      "text/plain": [
       "<Figure size 432x288 with 1 Axes>"
      ]
     },
     "metadata": {
      "image/png": {
       "height": 279,
       "width": 424
      },
      "needs_background": "light"
     },
     "output_type": "display_data"
    }
   ],
   "source": [
    "plot_position(results1)"
   ]
  },
  {
   "cell_type": "code",
   "execution_count": 33,
   "metadata": {},
   "outputs": [
    {
     "data": {
      "image/png": "[encoded data removed]",
      "text/plain": [
       "<Figure size 432x288 with 1 Axes>"
      ]
     },
     "metadata": {
      "image/png": {
       "height": 279,
       "width": 424
      },
      "needs_background": "light"
     },
     "output_type": "display_data"
    }
   ],
   "source": [
    "plot_velocity(results1)"
   ]
  },
  {
   "cell_type": "markdown",
   "metadata": {},
   "source": [
    "### Exercise 2\n",
    "Suppose we drop a quarter from the Empire State Building and find that its flight time is 19.1 seconds. Use this measurement to estimate terminal velocity and coefficient of drag.\n",
    "\n",
    "You can get the relevant dimensions of a quarter from https://en.wikipedia.org/wiki/Quarter_(United_States_coin).\n",
    "\n",
    "Create a `Params` object with new values of `mass` and `diameter`. We don’t know `v_term`, so we’ll start with the initial guess 18 m/s.\n",
    "\n",
    "Use `make_system` to create a `System` object.\n",
    "\n",
    "Call `run_solve_ivp` to simulate the system. How does the flight time of the simulation compare to the measurement?\n",
    "\n",
    "Try a few different values of `v_term` and see if you can get the simulated flight time close to 19.1 seconds.\n",
    "\n",
    "Optionally, write an error function and use `root_scalar` to improve your estimate.\n",
    "\n",
    "Use your best estimate of `v_term` to compute `C_d`.\n",
    "\n",
    "Note: I fabricated the “observed” flight time, so don’t take the results of this exercise too seriously."
   ]
  },
  {
   "cell_type": "code",
   "execution_count": 35,
   "metadata": {},
   "outputs": [],
   "source": [
    "params_2 = modsim.Params(\n",
    "    mass=5.67e-3,\n",
    "    diameter=24.26e-3,\n",
    "    rho = 1.2,          # kg/m**3\n",
    "    g = 9.8,            # m/s**2\n",
    "    v_init = 0,         # m / s\n",
    "    v_term = 18,        # m / s\n",
    "    height = 381,       # m\n",
    "    t_end = 30,         # s\n",
    ")"
   ]
  },
  {
   "cell_type": "code",
   "execution_count": 36,
   "metadata": {},
   "outputs": [
    {
     "data": {
      "text/plain": [
       "namespace(init=y    381\n",
       "               v      0\n",
       "               Name: state, dtype: int64,\n",
       "          area=0.000462244204111976,\n",
       "          C_d=0.6183600157463346,\n",
       "          mass=0.00567,\n",
       "          rho=1.2,\n",
       "          g=9.8,\n",
       "          t_end=30)"
      ]
     },
     "execution_count": 36,
     "metadata": {},
     "output_type": "execute_result"
    }
   ],
   "source": [
    "system_2 = make_system(params_2)\n",
    "system_2"
   ]
  },
  {
   "cell_type": "code",
   "execution_count": 37,
   "metadata": {},
   "outputs": [
    {
     "data": {
      "text/plain": [
       "'A termination event occurred.'"
      ]
     },
     "execution_count": 37,
     "metadata": {},
     "output_type": "execute_result"
    }
   ],
   "source": [
    "results_2, details_2 = modsim.run_solve_ivp(system_2, slope_func, events=event_func)\n",
    "details_2.message"
   ]
  },
  {
   "cell_type": "code",
   "execution_count": 38,
   "metadata": {},
   "outputs": [
    {
     "data": {
      "text/plain": [
       "22.43946505804431"
      ]
     },
     "execution_count": 38,
     "metadata": {},
     "output_type": "execute_result"
    }
   ],
   "source": [
    "results_2.index[-1]"
   ]
  },
  {
   "cell_type": "code",
   "execution_count": 42,
   "metadata": {},
   "outputs": [
    {
     "data": {
      "text/plain": [
       "array([15., 16., 17., 18., 19., 20., 21., 22., 23., 24., 25.])"
      ]
     },
     "execution_count": 42,
     "metadata": {},
     "output_type": "execute_result"
    }
   ],
   "source": [
    "v_term = numpy.linspace(15, 25, 11)\n",
    "v_term"
   ]
  },
  {
   "cell_type": "code",
   "execution_count": 44,
   "metadata": {},
   "outputs": [
    {
     "name": "stdout",
     "output_type": "stream",
     "text": [
      "Time of flight 26.460770600406036 s with v_term = 15.0 m/s\n",
      "Time of flight 24.942824119585044 s with v_term = 16.0 m/s\n",
      "Time of flight 23.613772550275876 s with v_term = 17.0 m/s\n",
      "Time of flight 22.43946505804431 s with v_term = 18.0 m/s\n",
      "Time of flight 21.395091820400676 s with v_term = 19.0 m/s\n",
      "Time of flight 20.463387021717956 s with v_term = 20.0 m/s\n",
      "Time of flight 19.626846949939658 s with v_term = 21.0 m/s\n",
      "Time of flight 18.872829791552615 s with v_term = 22.0 m/s\n",
      "Time of flight 18.189621344662587 s with v_term = 23.0 m/s\n",
      "Time of flight 17.571059994325587 s with v_term = 24.0 m/s\n",
      "Time of flight 17.006694464787206 s with v_term = 25.0 m/s\n"
     ]
    }
   ],
   "source": [
    "for v in v_term:\n",
    "    params_2 = params_2.set(v_term=v)\n",
    "    system_2 = make_system(params_2)\n",
    "    results_2, details_2 = modsim.run_solve_ivp(system_2, slope_func, events=event_func)\n",
    "    print(f\"Time of flight {results_2.index[-1]} s with v_term = {v} m/s\")"
   ]
  },
  {
   "cell_type": "code",
   "execution_count": 48,
   "metadata": {},
   "outputs": [
    {
     "name": "stdout",
     "output_type": "stream",
     "text": [
      "Time of flight 19.626846949939658 s with v_term = 21.0 m/s\n",
      "Time of flight 19.585284168971892 s with v_term = 21.05263157894737 m/s\n",
      "Time of flight 19.543947432848675 s with v_term = 21.105263157894736 m/s\n",
      "Time of flight 19.50282891478576 s with v_term = 21.157894736842106 m/s\n",
      "Time of flight 19.4619256204701 s with v_term = 21.210526315789473 m/s\n",
      "Time of flight 19.42123481247887 s with v_term = 21.263157894736842 m/s\n",
      "Time of flight 19.38075399290665 s with v_term = 21.31578947368421 m/s\n",
      "Time of flight 19.340480887745034 s with v_term = 21.36842105263158 m/s\n",
      "Time of flight 19.300413432741593 s with v_term = 21.42105263157895 m/s\n",
      "Time of flight 19.26054976051509 s with v_term = 21.473684210526315 m/s\n",
      "Time of flight 19.22088818874444 s with v_term = 21.526315789473685 m/s\n",
      "Time of flight 19.181427209281264 s with v_term = 21.57894736842105 m/s\n",
      "Time of flight 19.142165478063045 s with v_term = 21.63157894736842 m/s\n",
      "Time of flight 19.103101805724478 s with v_term = 21.684210526315788 m/s\n",
      "Time of flight 19.064235148822526 s with v_term = 21.736842105263158 m/s\n",
      "Time of flight 19.02556460160438 s with v_term = 21.789473684210527 m/s\n",
      "Time of flight 18.987089388258816 s with v_term = 21.842105263157894 m/s\n",
      "Time of flight 18.948808855601083 s with v_term = 21.894736842105264 m/s\n",
      "Time of flight 18.910722466148776 s with v_term = 21.94736842105263 m/s\n",
      "Time of flight 18.872829791552615 s with v_term = 22.0 m/s\n"
     ]
    }
   ],
   "source": [
    "v_term = numpy.linspace(21, 22, 20)\n",
    "for v in v_term:\n",
    "    params_2 = params_2.set(v_term=v)\n",
    "    system_2 = make_system(params_2)\n",
    "    results_2, details_2 = modsim.run_solve_ivp(system_2, slope_func, events=event_func)\n",
    "    print(f\"Time of flight {results_2.index[-1]} s with v_term = {v} m/s\")"
   ]
  },
  {
   "cell_type": "markdown",
   "metadata": {},
   "source": [
    "Looks like `v_term=21.684` m/s makes the time of flight close to 19.1 m/s."
   ]
  },
  {
   "cell_type": "code",
   "execution_count": 60,
   "metadata": {},
   "outputs": [],
   "source": [
    "def error_func(v, params):\n",
    "    params = modsim.Params(params, v_term=v)\n",
    "    system = make_system(params)\n",
    "    results, _ = modsim.run_solve_ivp(system, slope_func, events=event_func)\n",
    "    return results.index[-1] - params.tof"
   ]
  },
  {
   "cell_type": "code",
   "execution_count": 61,
   "metadata": {},
   "outputs": [
    {
     "data": {
      "text/plain": [
       "namespace(mass=0.00567,\n",
       "          diameter=0.02426,\n",
       "          rho=1.2,\n",
       "          g=9.8,\n",
       "          v_init=0,\n",
       "          v_term=22.0,\n",
       "          height=381,\n",
       "          t_end=30,\n",
       "          tof=19.1)"
      ]
     },
     "execution_count": 61,
     "metadata": {},
     "output_type": "execute_result"
    }
   ],
   "source": [
    "params3 = params_2.set(tof=19.1)\n",
    "params3"
   ]
  },
  {
   "cell_type": "code",
   "execution_count": 62,
   "metadata": {},
   "outputs": [
    {
     "data": {
      "text/plain": [
       "      converged: True\n",
       "           flag: 'converged'\n",
       " function_calls: 5\n",
       "     iterations: 4\n",
       "           root: 21.68839509108379"
      ]
     },
     "execution_count": 62,
     "metadata": {},
     "output_type": "execute_result"
    }
   ],
   "source": [
    "res = modsim.root_scalar(error_func, params3, bracket=[21, 22])\n",
    "res"
   ]
  },
  {
   "cell_type": "code",
   "execution_count": 63,
   "metadata": {},
   "outputs": [
    {
     "data": {
      "text/plain": [
       "0.42592347554049015"
      ]
     },
     "execution_count": 63,
     "metadata": {},
     "output_type": "execute_result"
    }
   ],
   "source": [
    "params_solution = modsim.Params(params3, v_term=res.root)\n",
    "system3 = make_system(params_solution)\n",
    "system3.C_d"
   ]
  },
  {
   "cell_type": "code",
   "execution_count": null,
   "metadata": {},
   "outputs": [],
   "source": []
  }
 ],
 "metadata": {
  "kernelspec": {
   "display_name": "Python 3.9.12 ('base')",
   "language": "python",
   "name": "python3"
  },
  "language_info": {
   "codemirror_mode": {
    "name": "ipython",
    "version": 3
   },
   "file_extension": ".py",
   "mimetype": "text/x-python",
   "name": "python",
   "nbconvert_exporter": "python",
   "pygments_lexer": "ipython3",
   "version": "3.9.12"
  },
  "orig_nbformat": 4,
  "vscode": {
   "interpreter": {
    "hash": "e7cb1b9ae4d417fedf7f40a8eec98f7cfbd359e096bd857395a915f4609834ce"
   }
  }
 },
 "nbformat": 4,
 "nbformat_minor": 2
}
